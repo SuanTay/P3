{
  "nbformat": 4,
  "nbformat_minor": 0,
  "metadata": {
    "colab": {
      "name": "app.ipynb",
      "provenance": [],
      "collapsed_sections": [],
      "toc_visible": true,
      "mount_file_id": "13qINws1ZfHCQBEgyx0S_QxjmWkTH1iSs",
      "authorship_tag": "ABX9TyNAIkOaq9t3pEVJ6TC/cagp",
      "include_colab_link": true
    },
    "kernelspec": {
      "name": "python3",
      "display_name": "Python 3"
    },
    "widgets": {
      "application/vnd.jupyter.widget-state+json": {
        "33eb96927ebd4194bc4cbbfae9ea8487": {
          "model_module": "@jupyter-widgets/controls",
          "model_name": "VBoxModel",
          "state": {
            "_view_name": "VBoxView",
            "_dom_classes": [
              "widget-interact"
            ],
            "_model_name": "VBoxModel",
            "_view_module": "@jupyter-widgets/controls",
            "_model_module_version": "1.5.0",
            "_view_count": null,
            "_view_module_version": "1.5.0",
            "box_style": "",
            "layout": "IPY_MODEL_000dc96a5b10463c8c8868edbbb49cc7",
            "_model_module": "@jupyter-widgets/controls",
            "children": [
              "IPY_MODEL_f9abfa025f7a49bbb8d2cfa6abc05ff5",
              "IPY_MODEL_e1d5722ba7084a3f88ec7f0394debaec"
            ]
          }
        },
        "000dc96a5b10463c8c8868edbbb49cc7": {
          "model_module": "@jupyter-widgets/base",
          "model_name": "LayoutModel",
          "state": {
            "_view_name": "LayoutView",
            "grid_template_rows": null,
            "right": null,
            "justify_content": null,
            "_view_module": "@jupyter-widgets/base",
            "overflow": null,
            "_model_module_version": "1.2.0",
            "_view_count": null,
            "flex_flow": null,
            "width": null,
            "min_width": null,
            "border": null,
            "align_items": null,
            "bottom": null,
            "_model_module": "@jupyter-widgets/base",
            "top": null,
            "grid_column": null,
            "overflow_y": null,
            "overflow_x": null,
            "grid_auto_flow": null,
            "grid_area": null,
            "grid_template_columns": null,
            "flex": null,
            "_model_name": "LayoutModel",
            "justify_items": null,
            "grid_row": null,
            "max_height": null,
            "align_content": null,
            "visibility": null,
            "align_self": null,
            "height": null,
            "min_height": null,
            "padding": null,
            "grid_auto_rows": null,
            "grid_gap": null,
            "max_width": null,
            "order": null,
            "_view_module_version": "1.2.0",
            "grid_template_areas": null,
            "object_position": null,
            "object_fit": null,
            "grid_auto_columns": null,
            "margin": null,
            "display": null,
            "left": null
          }
        },
        "f9abfa025f7a49bbb8d2cfa6abc05ff5": {
          "model_module": "@jupyter-widgets/controls",
          "model_name": "DropdownModel",
          "state": {
            "_options_labels": [
              "energy_100g",
              "fat_100g",
              "saturated-fat_100g",
              "carbohydrates_100g",
              "sugars_100g",
              "fiber_100g",
              "proteins_100g",
              "salt_100g",
              "sodium_100g"
            ],
            "_view_name": "DropdownView",
            "style": "IPY_MODEL_65cf101506bf4e0095956f8726ff3c12",
            "_dom_classes": [],
            "description": "Colums :",
            "_model_name": "DropdownModel",
            "index": 0,
            "_view_module": "@jupyter-widgets/controls",
            "_model_module_version": "1.5.0",
            "_view_count": null,
            "disabled": false,
            "_view_module_version": "1.5.0",
            "description_tooltip": null,
            "_model_module": "@jupyter-widgets/controls",
            "layout": "IPY_MODEL_d1be0a6b2e8f463b85a42971ffaf21aa"
          }
        },
        "e1d5722ba7084a3f88ec7f0394debaec": {
          "model_module": "@jupyter-widgets/output",
          "model_name": "OutputModel",
          "state": {
            "_view_name": "OutputView",
            "msg_id": "",
            "_dom_classes": [],
            "_model_name": "OutputModel",
            "outputs": [
              {
                "output_type": "display_data",
                "metadata": {
                  "tags": [],
                  "needs_background": "light"
                },
                "image/png": "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\n",
                "text/plain": "<Figure size 432x288 with 1 Axes>"
              },
              {
                "output_type": "display_data",
                "metadata": {
                  "tags": []
                },
                "text/plain": "Text(0.5, 1.0, 'Distribution de energy_100g')"
              }
            ],
            "_view_module": "@jupyter-widgets/output",
            "_model_module_version": "1.0.0",
            "_view_count": null,
            "_view_module_version": "1.0.0",
            "layout": "IPY_MODEL_2affa05d88b14e7aa622833011b50948",
            "_model_module": "@jupyter-widgets/output"
          }
        },
        "65cf101506bf4e0095956f8726ff3c12": {
          "model_module": "@jupyter-widgets/controls",
          "model_name": "DescriptionStyleModel",
          "state": {
            "_view_name": "StyleView",
            "_model_name": "DescriptionStyleModel",
            "description_width": "",
            "_view_module": "@jupyter-widgets/base",
            "_model_module_version": "1.5.0",
            "_view_count": null,
            "_view_module_version": "1.2.0",
            "_model_module": "@jupyter-widgets/controls"
          }
        },
        "d1be0a6b2e8f463b85a42971ffaf21aa": {
          "model_module": "@jupyter-widgets/base",
          "model_name": "LayoutModel",
          "state": {
            "_view_name": "LayoutView",
            "grid_template_rows": null,
            "right": null,
            "justify_content": null,
            "_view_module": "@jupyter-widgets/base",
            "overflow": null,
            "_model_module_version": "1.2.0",
            "_view_count": null,
            "flex_flow": null,
            "width": null,
            "min_width": null,
            "border": null,
            "align_items": null,
            "bottom": null,
            "_model_module": "@jupyter-widgets/base",
            "top": null,
            "grid_column": null,
            "overflow_y": null,
            "overflow_x": null,
            "grid_auto_flow": null,
            "grid_area": null,
            "grid_template_columns": null,
            "flex": null,
            "_model_name": "LayoutModel",
            "justify_items": null,
            "grid_row": null,
            "max_height": null,
            "align_content": null,
            "visibility": null,
            "align_self": null,
            "height": null,
            "min_height": null,
            "padding": null,
            "grid_auto_rows": null,
            "grid_gap": null,
            "max_width": null,
            "order": null,
            "_view_module_version": "1.2.0",
            "grid_template_areas": null,
            "object_position": null,
            "object_fit": null,
            "grid_auto_columns": null,
            "margin": null,
            "display": null,
            "left": null
          }
        },
        "2affa05d88b14e7aa622833011b50948": {
          "model_module": "@jupyter-widgets/base",
          "model_name": "LayoutModel",
          "state": {
            "_view_name": "LayoutView",
            "grid_template_rows": null,
            "right": null,
            "justify_content": null,
            "_view_module": "@jupyter-widgets/base",
            "overflow": null,
            "_model_module_version": "1.2.0",
            "_view_count": null,
            "flex_flow": null,
            "width": null,
            "min_width": null,
            "border": null,
            "align_items": null,
            "bottom": null,
            "_model_module": "@jupyter-widgets/base",
            "top": null,
            "grid_column": null,
            "overflow_y": null,
            "overflow_x": null,
            "grid_auto_flow": null,
            "grid_area": null,
            "grid_template_columns": null,
            "flex": null,
            "_model_name": "LayoutModel",
            "justify_items": null,
            "grid_row": null,
            "max_height": null,
            "align_content": null,
            "visibility": null,
            "align_self": null,
            "height": null,
            "min_height": null,
            "padding": null,
            "grid_auto_rows": null,
            "grid_gap": null,
            "max_width": null,
            "order": null,
            "_view_module_version": "1.2.0",
            "grid_template_areas": null,
            "object_position": null,
            "object_fit": null,
            "grid_auto_columns": null,
            "margin": null,
            "display": null,
            "left": null
          }
        }
      }
    }
  },
  "cells": [
    {
      "cell_type": "markdown",
      "metadata": {
        "id": "view-in-github",
        "colab_type": "text"
      },
      "source": [
        "<a href=\"https://colab.research.google.com/github/SuanTay/P3/blob/master/app.ipynb\" target=\"_parent\"><img src=\"https://colab.research.google.com/assets/colab-badge.svg\" alt=\"Open In Colab\"/></a>"
      ]
    },
    {
      "cell_type": "markdown",
      "metadata": {
        "id": "-6pMvDCW_x2u",
        "colab_type": "text"
      },
      "source": [
        "# Analyse univariée"
      ]
    },
    {
      "cell_type": "code",
      "metadata": {
        "id": "ucYmUeBvUs3l",
        "colab_type": "code",
        "colab": {}
      },
      "source": [
        "!pip install pandas\n",
        "!pip install matplotlib\n",
        "!pip install ipywidgets\n",
        "!pip install google-colab\n",
        "!pip install oauth2client\n",
        "!pip install -U -q PyDrive"
      ],
      "execution_count": null,
      "outputs": []
    },
    {
      "cell_type": "code",
      "metadata": {
        "id": "TLhDeud0fNAb",
        "colab_type": "code",
        "colab": {}
      },
      "source": [
        "#!pip freeze > '/content/drive/My Drive/Colab Notebooks/heroku/requirements.txt'"
      ],
      "execution_count": null,
      "outputs": []
    },
    {
      "cell_type": "code",
      "metadata": {
        "id": "FOhlJKEJUxsp",
        "colab_type": "code",
        "colab": {}
      },
      "source": [
        "from pydrive.auth import GoogleAuth\n",
        "from pydrive.drive import GoogleDrive\n",
        "from google.colab import auth\n",
        "from oauth2client.client import GoogleCredentials\n",
        "\n",
        "import pandas as pd\n",
        "import pandas.util.testing as tm\n",
        "import numpy as np\n",
        "import matplotlib.pyplot as plt\n",
        "import seaborn as sns\n",
        "import missingno as msno"
      ],
      "execution_count": null,
      "outputs": []
    },
    {
      "cell_type": "code",
      "metadata": {
        "id": "Cw-tdyU5Xm8p",
        "colab_type": "code",
        "colab": {}
      },
      "source": [
        "# Authentification Google\n",
        "auth.authenticate_user()\n",
        "gauth = GoogleAuth()\n",
        "gauth.credentials = GoogleCredentials.get_application_default()\n",
        "drive = GoogleDrive(gauth)"
      ],
      "execution_count": null,
      "outputs": []
    },
    {
      "cell_type": "code",
      "metadata": {
        "id": "HNwxNqjGXfJb",
        "colab_type": "code",
        "colab": {}
      },
      "source": [
        "# Download du fichier\n",
        "id = '1yCRYw4m5KSAxDAdR7r5_laSpnUw7G2Dz'\n",
        "downloaded = drive.CreateFile({'id': '1yCRYw4m5KSAxDAdR7r5_laSpnUw7G2Dz'})\n",
        "downloaded.GetContentFile('openfoodfacts.csv')"
      ],
      "execution_count": null,
      "outputs": []
    },
    {
      "cell_type": "code",
      "metadata": {
        "id": "SpNniEMMUIa5",
        "colab_type": "code",
        "colab": {}
      },
      "source": [
        "df = pd.read_csv('openfoodfacts.csv', sep='\\t', low_memory=False)\n",
        "df=df[['energy_100g', 'fat_100g', 'saturated-fat_100g', 'carbohydrates_100g',\n",
        "       'sugars_100g', 'fiber_100g', 'proteins_100g', 'salt_100g',\n",
        "       'sodium_100g','nutriscore_score','nutriscore_grade']]\n"
      ],
      "execution_count": null,
      "outputs": []
    },
    {
      "cell_type": "markdown",
      "metadata": {
        "id": "luvwRma3-QM3",
        "colab_type": "text"
      },
      "source": [
        "## Description des données"
      ]
    },
    {
      "cell_type": "code",
      "metadata": {
        "id": "uupmnfwmuUtB",
        "colab_type": "code",
        "colab": {
          "base_uri": "https://localhost:8080/",
          "height": 334
        },
        "outputId": "70eb42c9-8b3f-465a-e917-ebf6646b7cd5"
      },
      "source": [
        "df.describe()"
      ],
      "execution_count": null,
      "outputs": [
        {
          "output_type": "execute_result",
          "data": {
            "text/html": [
              "<div>\n",
              "<style scoped>\n",
              "    .dataframe tbody tr th:only-of-type {\n",
              "        vertical-align: middle;\n",
              "    }\n",
              "\n",
              "    .dataframe tbody tr th {\n",
              "        vertical-align: top;\n",
              "    }\n",
              "\n",
              "    .dataframe thead th {\n",
              "        text-align: right;\n",
              "    }\n",
              "</style>\n",
              "<table border=\"1\" class=\"dataframe\">\n",
              "  <thead>\n",
              "    <tr style=\"text-align: right;\">\n",
              "      <th></th>\n",
              "      <th>energy_100g</th>\n",
              "      <th>fat_100g</th>\n",
              "      <th>saturated-fat_100g</th>\n",
              "      <th>carbohydrates_100g</th>\n",
              "      <th>sugars_100g</th>\n",
              "      <th>fiber_100g</th>\n",
              "      <th>proteins_100g</th>\n",
              "      <th>salt_100g</th>\n",
              "      <th>sodium_100g</th>\n",
              "      <th>nutriscore_score</th>\n",
              "    </tr>\n",
              "  </thead>\n",
              "  <tbody>\n",
              "    <tr>\n",
              "      <th>count</th>\n",
              "      <td>528952.000000</td>\n",
              "      <td>528952.000000</td>\n",
              "      <td>528952.000000</td>\n",
              "      <td>528952.000000</td>\n",
              "      <td>528952.000000</td>\n",
              "      <td>528952.000000</td>\n",
              "      <td>528952.000000</td>\n",
              "      <td>528952.000000</td>\n",
              "      <td>528952.000000</td>\n",
              "      <td>528952.000000</td>\n",
              "    </tr>\n",
              "    <tr>\n",
              "      <th>mean</th>\n",
              "      <td>1160.308621</td>\n",
              "      <td>14.134543</td>\n",
              "      <td>5.486951</td>\n",
              "      <td>27.384155</td>\n",
              "      <td>13.865210</td>\n",
              "      <td>0.721936</td>\n",
              "      <td>8.937923</td>\n",
              "      <td>1.267092</td>\n",
              "      <td>0.506937</td>\n",
              "      <td>9.919341</td>\n",
              "    </tr>\n",
              "    <tr>\n",
              "      <th>std</th>\n",
              "      <td>774.051358</td>\n",
              "      <td>17.027660</td>\n",
              "      <td>7.933782</td>\n",
              "      <td>27.723786</td>\n",
              "      <td>20.012309</td>\n",
              "      <td>2.773639</td>\n",
              "      <td>9.908187</td>\n",
              "      <td>4.541257</td>\n",
              "      <td>1.817782</td>\n",
              "      <td>7.937834</td>\n",
              "    </tr>\n",
              "    <tr>\n",
              "      <th>min</th>\n",
              "      <td>0.000000</td>\n",
              "      <td>0.000000</td>\n",
              "      <td>0.000000</td>\n",
              "      <td>0.000000</td>\n",
              "      <td>0.000000</td>\n",
              "      <td>0.000000</td>\n",
              "      <td>0.000000</td>\n",
              "      <td>0.000000</td>\n",
              "      <td>0.000000</td>\n",
              "      <td>-15.000000</td>\n",
              "    </tr>\n",
              "    <tr>\n",
              "      <th>25%</th>\n",
              "      <td>490.000000</td>\n",
              "      <td>1.100000</td>\n",
              "      <td>0.280000</td>\n",
              "      <td>2.800000</td>\n",
              "      <td>0.700000</td>\n",
              "      <td>0.000000</td>\n",
              "      <td>1.700000</td>\n",
              "      <td>0.070000</td>\n",
              "      <td>0.028000</td>\n",
              "      <td>3.333333</td>\n",
              "    </tr>\n",
              "    <tr>\n",
              "      <th>50%</th>\n",
              "      <td>1121.000000</td>\n",
              "      <td>8.100000</td>\n",
              "      <td>2.100000</td>\n",
              "      <td>14.000000</td>\n",
              "      <td>3.600000</td>\n",
              "      <td>0.000000</td>\n",
              "      <td>6.300000</td>\n",
              "      <td>0.530000</td>\n",
              "      <td>0.212000</td>\n",
              "      <td>10.333333</td>\n",
              "    </tr>\n",
              "    <tr>\n",
              "      <th>75%</th>\n",
              "      <td>1682.000000</td>\n",
              "      <td>22.400000</td>\n",
              "      <td>8.100000</td>\n",
              "      <td>52.500000</td>\n",
              "      <td>20.000000</td>\n",
              "      <td>0.000000</td>\n",
              "      <td>12.900000</td>\n",
              "      <td>1.300000</td>\n",
              "      <td>0.520000</td>\n",
              "      <td>15.666667</td>\n",
              "    </tr>\n",
              "    <tr>\n",
              "      <th>max</th>\n",
              "      <td>3772.000000</td>\n",
              "      <td>100.000000</td>\n",
              "      <td>100.000000</td>\n",
              "      <td>100.000000</td>\n",
              "      <td>100.000000</td>\n",
              "      <td>100.000000</td>\n",
              "      <td>100.000000</td>\n",
              "      <td>100.000000</td>\n",
              "      <td>49.987200</td>\n",
              "      <td>40.000000</td>\n",
              "    </tr>\n",
              "  </tbody>\n",
              "</table>\n",
              "</div>"
            ],
            "text/plain": [
              "         energy_100g       fat_100g  ...    sodium_100g  nutriscore_score\n",
              "count  528952.000000  528952.000000  ...  528952.000000     528952.000000\n",
              "mean     1160.308621      14.134543  ...       0.506937          9.919341\n",
              "std       774.051358      17.027660  ...       1.817782          7.937834\n",
              "min         0.000000       0.000000  ...       0.000000        -15.000000\n",
              "25%       490.000000       1.100000  ...       0.028000          3.333333\n",
              "50%      1121.000000       8.100000  ...       0.212000         10.333333\n",
              "75%      1682.000000      22.400000  ...       0.520000         15.666667\n",
              "max      3772.000000     100.000000  ...      49.987200         40.000000\n",
              "\n",
              "[8 rows x 10 columns]"
            ]
          },
          "metadata": {
            "tags": []
          },
          "execution_count": 14
        }
      ]
    },
    {
      "cell_type": "code",
      "metadata": {
        "id": "W8PAuHyxUxIk",
        "colab_type": "code",
        "colab": {}
      },
      "source": [
        "df_eval=df[['energy_100g', 'fat_100g', 'saturated-fat_100g', 'carbohydrates_100g',\n",
        "       'sugars_100g', 'fiber_100g', 'proteins_100g', 'salt_100g',\n",
        "       'sodium_100g']]"
      ],
      "execution_count": null,
      "outputs": []
    },
    {
      "cell_type": "markdown",
      "metadata": {
        "id": "PdvhsZdp-68B",
        "colab_type": "text"
      },
      "source": [
        "## Graphiques de distribution des variables"
      ]
    },
    {
      "cell_type": "code",
      "metadata": {
        "id": "_TovuToIAMIN",
        "colab_type": "code",
        "colab": {
          "base_uri": "https://localhost:8080/",
          "height": 362,
          "referenced_widgets": [
            "33eb96927ebd4194bc4cbbfae9ea8487",
            "000dc96a5b10463c8c8868edbbb49cc7",
            "f9abfa025f7a49bbb8d2cfa6abc05ff5",
            "e1d5722ba7084a3f88ec7f0394debaec",
            "65cf101506bf4e0095956f8726ff3c12",
            "d1be0a6b2e8f463b85a42971ffaf21aa",
            "2affa05d88b14e7aa622833011b50948"
          ]
        },
        "outputId": "84ba5d6c-f5de-4dce-bab6-f39f56b9c993"
      },
      "source": [
        "import ipywidgets \n",
        "\n",
        "w=ipywidgets.Dropdown(options=df_eval.columns, description='Colums :')\n",
        "\n",
        "def dist(col):\n",
        "   x = pd.Series(df_eval[col])\n",
        "   ax = sns.distplot(x)\n",
        "   return plt.title(\"Distribution de \"+ col)\n",
        "\n",
        "\n",
        "ipywidgets.interact(dist, col=w)"
      ],
      "execution_count": null,
      "outputs": [
        {
          "output_type": "display_data",
          "data": {
            "application/vnd.jupyter.widget-view+json": {
              "model_id": "33eb96927ebd4194bc4cbbfae9ea8487",
              "version_minor": 0,
              "version_major": 2
            },
            "text/plain": [
              "interactive(children=(Dropdown(description='Colums :', options=('energy_100g', 'fat_100g', 'saturated-fat_100g…"
            ]
          },
          "metadata": {
            "tags": []
          }
        },
        {
          "output_type": "execute_result",
          "data": {
            "text/plain": [
              "<function __main__.dist>"
            ]
          },
          "metadata": {
            "tags": []
          },
          "execution_count": 16
        }
      ]
    },
    {
      "cell_type": "code",
      "metadata": {
        "id": "4PmeWRxsRiIg",
        "colab_type": "code",
        "colab": {}
      },
      "source": [
        ""
      ],
      "execution_count": null,
      "outputs": []
    }
  ]
}