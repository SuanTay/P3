{
  "nbformat": 4,
  "nbformat_minor": 0,
  "metadata": {
    "colab": {
      "name": "2.1HIDE-KNNscore.ipynb",
      "provenance": [],
      "toc_visible": true,
      "mount_file_id": "1TM9w8KNAzFm3a_Yh9-u4lM8aZh4GEx-Q",
      "authorship_tag": "ABX9TyP+y4uUzXL9HnkiwWpG60i2",
      "include_colab_link": true
    },
    "kernelspec": {
      "name": "python3",
      "display_name": "Python 3"
    }
  },
  "cells": [
    {
      "cell_type": "markdown",
      "metadata": {
        "id": "view-in-github",
        "colab_type": "text"
      },
      "source": [
        "<a href=\"https://colab.research.google.com/github/SuanTay/P3/blob/master/2_1HIDE_KNNscore.ipynb\" target=\"_parent\"><img src=\"https://colab.research.google.com/assets/colab-badge.svg\" alt=\"Open In Colab\"/></a>"
      ]
    },
    {
      "cell_type": "markdown",
      "metadata": {
        "id": "EvUS6gcOECDH",
        "colab_type": "text"
      },
      "source": [
        "**KNN** Score"
      ]
    },
    {
      "cell_type": "code",
      "metadata": {
        "id": "7CQVNmp_EA97",
        "colab_type": "code",
        "colab": {
          "base_uri": "https://localhost:8080/",
          "height": 34
        },
        "outputId": "03a13ad5-d507-4fbc-d0c8-40206479eec8"
      },
      "source": [
        "import pandas as pd\n",
        "df = pd.read_csv('/content/drive/My Drive/Colab Notebooks/fr.openfoodfacts.org.products.csv/clean.openfoodfacts.csv', sep='\\t', low_memory=False)\n",
        "df.shape\n"
      ],
      "execution_count": null,
      "outputs": [
        {
          "output_type": "execute_result",
          "data": {
            "text/plain": [
              "(528953, 17)"
            ]
          },
          "metadata": {
            "tags": []
          },
          "execution_count": 16
        }
      ]
    },
    {
      "cell_type": "markdown",
      "metadata": {
        "id": "s66DzjxIELCW",
        "colab_type": "text"
      },
      "source": [
        "## Préparation des données"
      ]
    },
    {
      "cell_type": "code",
      "metadata": {
        "id": "hakw6ziueNyf",
        "colab_type": "code",
        "colab": {
          "base_uri": "https://localhost:8080/",
          "height": 323
        },
        "outputId": "223727a0-ab75-47e0-c097-b6ef5a083d4a"
      },
      "source": [
        "df.isnull().sum()/len(df)"
      ],
      "execution_count": null,
      "outputs": [
        {
          "output_type": "execute_result",
          "data": {
            "text/plain": [
              "Unnamed: 0            0.000000\n",
              "code                  0.000000\n",
              "url                   0.000000\n",
              "product_name          0.000000\n",
              "countries_fr          0.000000\n",
              "nutriscore_score      0.545495\n",
              "nutriscore_grade      0.545495\n",
              "pnns_groups_2         0.000000\n",
              "energy_100g           0.000000\n",
              "fat_100g              0.000000\n",
              "saturated-fat_100g    0.000000\n",
              "carbohydrates_100g    0.000000\n",
              "sugars_100g           0.000000\n",
              "fiber_100g            0.000000\n",
              "proteins_100g         0.000000\n",
              "salt_100g             0.000000\n",
              "sodium_100g           0.000000\n",
              "dtype: float64"
            ]
          },
          "metadata": {
            "tags": []
          },
          "execution_count": 17
        }
      ]
    },
    {
      "cell_type": "markdown",
      "metadata": {
        "id": "4PgYvtMWKmIr",
        "colab_type": "text"
      },
      "source": [
        "on cherche a remlpir les nutri grade :\n",
        "\n",
        "1.   separer les données entre ceux qui on des nutri grade et ceux qui n'en n'ont pas.\n",
        "2.   data/target\n",
        "3.   80/20"
      ]
    },
    {
      "cell_type": "code",
      "metadata": {
        "id": "s1kqRHJtQP27",
        "colab_type": "code",
        "colab": {
          "base_uri": "https://localhost:8080/",
          "height": 102
        },
        "outputId": "711da04f-6892-46c6-d9d9-1bec9783197f"
      },
      "source": [
        "df.columns"
      ],
      "execution_count": null,
      "outputs": [
        {
          "output_type": "execute_result",
          "data": {
            "text/plain": [
              "Index(['Unnamed: 0', 'code', 'url', 'product_name', 'countries_fr',\n",
              "       'nutriscore_score', 'nutriscore_grade', 'pnns_groups_2', 'energy_100g',\n",
              "       'fat_100g', 'saturated-fat_100g', 'carbohydrates_100g', 'sugars_100g',\n",
              "       'fiber_100g', 'proteins_100g', 'salt_100g', 'sodium_100g'],\n",
              "      dtype='object')"
            ]
          },
          "metadata": {
            "tags": []
          },
          "execution_count": 18
        }
      ]
    },
    {
      "cell_type": "code",
      "metadata": {
        "id": "6xCjyj3GP8Oy",
        "colab_type": "code",
        "colab": {}
      },
      "source": [
        "df.drop(columns=['Unnamed: 0','url','product_name', 'countries_fr','nutriscore_grade','pnns_groups_2'], inplace=True)"
      ],
      "execution_count": null,
      "outputs": []
    },
    {
      "cell_type": "code",
      "metadata": {
        "id": "2y_U9jomE0mr",
        "colab_type": "code",
        "colab": {
          "base_uri": "https://localhost:8080/",
          "height": 34
        },
        "outputId": "efd78050-4909-4205-91a1-88e50ad1bfcb"
      },
      "source": [
        "data =df[df['nutriscore_score'].isnull()==False]\n",
        "data.shape"
      ],
      "execution_count": null,
      "outputs": [
        {
          "output_type": "execute_result",
          "data": {
            "text/plain": [
              "(240412, 11)"
            ]
          },
          "metadata": {
            "tags": []
          },
          "execution_count": 20
        }
      ]
    },
    {
      "cell_type": "code",
      "metadata": {
        "id": "gox_EUabM9re",
        "colab_type": "code",
        "colab": {
          "base_uri": "https://localhost:8080/",
          "height": 34
        },
        "outputId": "29358dd7-268b-4f77-cf02-1a04fb911bdc"
      },
      "source": [
        "data_found =df[df['nutriscore_score'].isnull()]\n",
        "data_found.shape"
      ],
      "execution_count": null,
      "outputs": [
        {
          "output_type": "execute_result",
          "data": {
            "text/plain": [
              "(288541, 11)"
            ]
          },
          "metadata": {
            "tags": []
          },
          "execution_count": 21
        }
      ]
    },
    {
      "cell_type": "code",
      "metadata": {
        "id": "G2y7xdiqNuAz",
        "colab_type": "code",
        "colab": {
          "base_uri": "https://localhost:8080/",
          "height": 34
        },
        "outputId": "c904b322-0538-4032-934b-a2645f3f6a35"
      },
      "source": [
        "target = data['nutriscore_score']\n",
        "target.shape"
      ],
      "execution_count": null,
      "outputs": [
        {
          "output_type": "execute_result",
          "data": {
            "text/plain": [
              "(240412,)"
            ]
          },
          "metadata": {
            "tags": []
          },
          "execution_count": 22
        }
      ]
    },
    {
      "cell_type": "code",
      "metadata": {
        "id": "-tlno2kwN_hu",
        "colab_type": "code",
        "colab": {
          "base_uri": "https://localhost:8080/",
          "height": 102
        },
        "outputId": "0754c41b-9a1c-4c63-b6f4-60ba8058e7d7"
      },
      "source": [
        "data.drop(columns=['nutriscore_score'], inplace=True)\n"
      ],
      "execution_count": null,
      "outputs": [
        {
          "output_type": "stream",
          "text": [
            "/usr/local/lib/python3.6/dist-packages/pandas/core/frame.py:3997: SettingWithCopyWarning: \n",
            "A value is trying to be set on a copy of a slice from a DataFrame\n",
            "\n",
            "See the caveats in the documentation: https://pandas.pydata.org/pandas-docs/stable/user_guide/indexing.html#returning-a-view-versus-a-copy\n",
            "  errors=errors,\n"
          ],
          "name": "stderr"
        }
      ]
    },
    {
      "cell_type": "code",
      "metadata": {
        "id": "gjrih-2LNmHz",
        "colab_type": "code",
        "colab": {
          "base_uri": "https://localhost:8080/",
          "height": 102
        },
        "outputId": "b7759847-efc3-4670-aea7-56ce01104807"
      },
      "source": [
        "data_found.drop(columns=['nutriscore_score'], inplace=True)"
      ],
      "execution_count": null,
      "outputs": [
        {
          "output_type": "stream",
          "text": [
            "/usr/local/lib/python3.6/dist-packages/pandas/core/frame.py:3997: SettingWithCopyWarning: \n",
            "A value is trying to be set on a copy of a slice from a DataFrame\n",
            "\n",
            "See the caveats in the documentation: https://pandas.pydata.org/pandas-docs/stable/user_guide/indexing.html#returning-a-view-versus-a-copy\n",
            "  errors=errors,\n"
          ],
          "name": "stderr"
        }
      ]
    },
    {
      "cell_type": "code",
      "metadata": {
        "id": "E0U8P1VTOQsf",
        "colab_type": "code",
        "colab": {}
      },
      "source": [
        "from sklearn.model_selection import train_test_split\n",
        "\n",
        "xtrain, xtest, ytrain, ytest = train_test_split(data, target, train_size=0.8)\n"
      ],
      "execution_count": null,
      "outputs": []
    },
    {
      "cell_type": "code",
      "metadata": {
        "id": "uRDE4-CEO75r",
        "colab_type": "code",
        "colab": {
          "base_uri": "https://localhost:8080/",
          "height": 34
        },
        "outputId": "07523a1d-549b-43b5-942f-dbce8ea43f95"
      },
      "source": [
        "xtrain.shape"
      ],
      "execution_count": null,
      "outputs": [
        {
          "output_type": "execute_result",
          "data": {
            "text/plain": [
              "(192329, 10)"
            ]
          },
          "metadata": {
            "tags": []
          },
          "execution_count": 26
        }
      ]
    },
    {
      "cell_type": "code",
      "metadata": {
        "id": "ELUKBZqqO-FU",
        "colab_type": "code",
        "colab": {
          "base_uri": "https://localhost:8080/",
          "height": 34
        },
        "outputId": "a5d35991-b7e4-4750-c96e-43cbf50174a0"
      },
      "source": [
        "xtest.shape"
      ],
      "execution_count": null,
      "outputs": [
        {
          "output_type": "execute_result",
          "data": {
            "text/plain": [
              "(48083, 10)"
            ]
          },
          "metadata": {
            "tags": []
          },
          "execution_count": 27
        }
      ]
    },
    {
      "cell_type": "code",
      "metadata": {
        "id": "bu_AC5H7PBol",
        "colab_type": "code",
        "colab": {
          "base_uri": "https://localhost:8080/",
          "height": 68
        },
        "outputId": "9d0b730d-008b-407e-cf29-9e7efb75765e"
      },
      "source": [
        "from sklearn import neighbors\n",
        "knn=neighbors.KNeighborsRegressor(n_neighbors=3)\n",
        "knn.fit(xtrain, ytrain)"
      ],
      "execution_count": null,
      "outputs": [
        {
          "output_type": "execute_result",
          "data": {
            "text/plain": [
              "KNeighborsRegressor(algorithm='auto', leaf_size=30, metric='minkowski',\n",
              "                    metric_params=None, n_jobs=None, n_neighbors=3, p=2,\n",
              "                    weights='uniform')"
            ]
          },
          "metadata": {
            "tags": []
          },
          "execution_count": 28
        }
      ]
    },
    {
      "cell_type": "code",
      "metadata": {
        "id": "uoTaBHa8PTO0",
        "colab_type": "code",
        "colab": {
          "base_uri": "https://localhost:8080/",
          "height": 34
        },
        "outputId": "650a13c1-e4b8-4ae0-d4de-56c1122ae27a"
      },
      "source": [
        "error =  knn.score(xtest, ytest)\n",
        "print('Erreur: %f' % error)"
      ],
      "execution_count": null,
      "outputs": [
        {
          "output_type": "stream",
          "text": [
            "Erreur: 0.481575\n"
          ],
          "name": "stdout"
        }
      ]
    },
    {
      "cell_type": "code",
      "metadata": {
        "id": "0vE66uR4PTwi",
        "colab_type": "code",
        "colab": {
          "base_uri": "https://localhost:8080/",
          "height": 532
        },
        "outputId": "d94f3075-c3fe-4ceb-989f-ce9a1976e3d0"
      },
      "source": [
        "import matplotlib.pyplot as plt\n",
        "acuracy = []\n",
        "for k in range(2,10):\n",
        "    knn = neighbors.KNeighborsRegressor(k)\n",
        "    acuracy.append(100*( knn.fit(xtrain, ytrain).score(xtest, ytest)))\n",
        "    #Acuracy\n",
        "plt.figure(figsize=(12, 8))\n",
        "plt.plot(range(2,10), acuracy, 'o-')\n",
        "plt.title('Précision (%) en fonction du nombre de K voisin',fontdict={'family': 'college', \n",
        "                    'color' : 'black',\n",
        "                    'weight': 'bold',\n",
        "                    'size': 16},\n",
        "          loc='right')\n",
        "plt.xlabel('Nombre de K Neighors')\n",
        "plt.ylabel('% accuracy')\n",
        "#ajouter légende \n",
        "plt.show()\n",
        "#on prend la plus haute"
      ],
      "execution_count": null,
      "outputs": [
        {
          "output_type": "stream",
          "text": [
            "findfont: Font family ['college'] not found. Falling back to DejaVu Sans.\n"
          ],
          "name": "stderr"
        },
        {
          "output_type": "display_data",
          "data": {
            "image/png": "[encoded data removed]",
            "text/plain": [
              "<Figure size 864x576 with 1 Axes>"
            ]
          },
          "metadata": {
            "tags": [],
            "needs_background": "light"
          }
        }
      ]
    },
    {
      "cell_type": "code",
      "metadata": {
        "id": "hI08_GLNa-Xv",
        "colab_type": "code",
        "colab": {
          "base_uri": "https://localhost:8080/",
          "height": 323
        },
        "outputId": "843f08df-01ee-47ee-f939-267e58cd2769"
      },
      "source": [
        "# On récupère le classifieur le plus performant\n",
        "knn = neighbors.KNeighborsRegressor(3)\n",
        "knn.fit(xtrain, ytrain)\n",
        "\n",
        "# On récupère les prédictions sur les données test\n",
        "predicted = knn.predict(data_found)\n",
        "\n",
        "data_found['nutriscore_score']=predicted\n",
        "\n",
        "data_found.head()"
      ],
      "execution_count": null,
      "outputs": [
        {
          "output_type": "stream",
          "text": [
            "/usr/local/lib/python3.6/dist-packages/ipykernel_launcher.py:8: SettingWithCopyWarning: \n",
            "A value is trying to be set on a copy of a slice from a DataFrame.\n",
            "Try using .loc[row_indexer,col_indexer] = value instead\n",
            "\n",
            "See the caveats in the documentation: https://pandas.pydata.org/pandas-docs/stable/user_guide/indexing.html#returning-a-view-versus-a-copy\n",
            "  \n"
          ],
          "name": "stderr"
        },
        {
          "output_type": "execute_result",
          "data": {
            "text/html": [
              "<div>\n",
              "<style scoped>\n",
              "    .dataframe tbody tr th:only-of-type {\n",
              "        vertical-align: middle;\n",
              "    }\n",
              "\n",
              "    .dataframe tbody tr th {\n",
              "        vertical-align: top;\n",
              "    }\n",
              "\n",
              "    .dataframe thead th {\n",
              "        text-align: right;\n",
              "    }\n",
              "</style>\n",
              "<table border=\"1\" class=\"dataframe\">\n",
              "  <thead>\n",
              "    <tr style=\"text-align: right;\">\n",
              "      <th></th>\n",
              "      <th>code</th>\n",
              "      <th>energy_100g</th>\n",
              "      <th>fat_100g</th>\n",
              "      <th>saturated-fat_100g</th>\n",
              "      <th>carbohydrates_100g</th>\n",
              "      <th>sugars_100g</th>\n",
              "      <th>fiber_100g</th>\n",
              "      <th>proteins_100g</th>\n",
              "      <th>salt_100g</th>\n",
              "      <th>sodium_100g</th>\n",
              "      <th>nutriscore_score</th>\n",
              "    </tr>\n",
              "  </thead>\n",
              "  <tbody>\n",
              "    <tr>\n",
              "      <th>0</th>\n",
              "      <td>0000000000017</td>\n",
              "      <td>1569.0</td>\n",
              "      <td>7.0</td>\n",
              "      <td>3.08</td>\n",
              "      <td>70.1</td>\n",
              "      <td>15.0</td>\n",
              "      <td>0.0</td>\n",
              "      <td>7.8</td>\n",
              "      <td>1.400</td>\n",
              "      <td>0.5600</td>\n",
              "      <td>3.000000</td>\n",
              "    </tr>\n",
              "    <tr>\n",
              "      <th>2</th>\n",
              "      <td>0000000000123</td>\n",
              "      <td>88.0</td>\n",
              "      <td>0.0</td>\n",
              "      <td>0.00</td>\n",
              "      <td>4.8</td>\n",
              "      <td>0.4</td>\n",
              "      <td>0.0</td>\n",
              "      <td>0.2</td>\n",
              "      <td>2.040</td>\n",
              "      <td>0.8160</td>\n",
              "      <td>4.666667</td>\n",
              "    </tr>\n",
              "    <tr>\n",
              "      <th>3</th>\n",
              "      <td>0000000000178</td>\n",
              "      <td>251.0</td>\n",
              "      <td>3.0</td>\n",
              "      <td>1.00</td>\n",
              "      <td>10.0</td>\n",
              "      <td>3.0</td>\n",
              "      <td>0.0</td>\n",
              "      <td>2.0</td>\n",
              "      <td>1.150</td>\n",
              "      <td>0.4600</td>\n",
              "      <td>4.666667</td>\n",
              "    </tr>\n",
              "    <tr>\n",
              "      <th>5</th>\n",
              "      <td>0000000000970</td>\n",
              "      <td>540.0</td>\n",
              "      <td>4.9</td>\n",
              "      <td>3.10</td>\n",
              "      <td>16.3</td>\n",
              "      <td>16.3</td>\n",
              "      <td>0.0</td>\n",
              "      <td>4.4</td>\n",
              "      <td>0.250</td>\n",
              "      <td>0.1000</td>\n",
              "      <td>1.666667</td>\n",
              "    </tr>\n",
              "    <tr>\n",
              "      <th>6</th>\n",
              "      <td>0000000001137</td>\n",
              "      <td>929.0</td>\n",
              "      <td>3.3</td>\n",
              "      <td>2.10</td>\n",
              "      <td>38.4</td>\n",
              "      <td>1.8</td>\n",
              "      <td>0.0</td>\n",
              "      <td>11.7</td>\n",
              "      <td>0.678</td>\n",
              "      <td>0.2712</td>\n",
              "      <td>9.333333</td>\n",
              "    </tr>\n",
              "  </tbody>\n",
              "</table>\n",
              "</div>"
            ],
            "text/plain": [
              "            code  energy_100g  ...  sodium_100g  nutriscore_score\n",
              "0  0000000000017       1569.0  ...       0.5600          3.000000\n",
              "2  0000000000123         88.0  ...       0.8160          4.666667\n",
              "3  0000000000178        251.0  ...       0.4600          4.666667\n",
              "5  0000000000970        540.0  ...       0.1000          1.666667\n",
              "6  0000000001137        929.0  ...       0.2712          9.333333\n",
              "\n",
              "[5 rows x 11 columns]"
            ]
          },
          "metadata": {
            "tags": []
          },
          "execution_count": 32
        }
      ]
    },
    {
      "cell_type": "code",
      "metadata": {
        "id": "AuUPSEEqhFlw",
        "colab_type": "code",
        "colab": {
          "base_uri": "https://localhost:8080/",
          "height": 34
        },
        "outputId": "bd9de18a-086d-47ba-db52-81a9d3eb8a02"
      },
      "source": [
        "data_found.shape"
      ],
      "execution_count": null,
      "outputs": [
        {
          "output_type": "execute_result",
          "data": {
            "text/plain": [
              "(289131, 11)"
            ]
          },
          "metadata": {
            "tags": []
          },
          "execution_count": 50
        }
      ]
    },
    {
      "cell_type": "code",
      "metadata": {
        "id": "hwiPDY76hLSr",
        "colab_type": "code",
        "colab": {
          "base_uri": "https://localhost:8080/",
          "height": 34
        },
        "outputId": "19bd825c-5519-4699-ad1c-421dd8b4d84a"
      },
      "source": [
        "data.shape"
      ],
      "execution_count": null,
      "outputs": [
        {
          "output_type": "execute_result",
          "data": {
            "text/plain": [
              "(241154, 10)"
            ]
          },
          "metadata": {
            "tags": []
          },
          "execution_count": 51
        }
      ]
    },
    {
      "cell_type": "code",
      "metadata": {
        "id": "v7WRN6brioVM",
        "colab_type": "code",
        "colab": {
          "base_uri": "https://localhost:8080/",
          "height": 406
        },
        "outputId": "308e3d87-6b3b-436a-bb77-0e3115fed697"
      },
      "source": [
        "data_found[data_found.nutriscore_score>=2]"
      ],
      "execution_count": null,
      "outputs": [
        {
          "output_type": "execute_result",
          "data": {
            "text/html": [
              "<div>\n",
              "<style scoped>\n",
              "    .dataframe tbody tr th:only-of-type {\n",
              "        vertical-align: middle;\n",
              "    }\n",
              "\n",
              "    .dataframe tbody tr th {\n",
              "        vertical-align: top;\n",
              "    }\n",
              "\n",
              "    .dataframe thead th {\n",
              "        text-align: right;\n",
              "    }\n",
              "</style>\n",
              "<table border=\"1\" class=\"dataframe\">\n",
              "  <thead>\n",
              "    <tr style=\"text-align: right;\">\n",
              "      <th></th>\n",
              "      <th>code</th>\n",
              "      <th>energy_100g</th>\n",
              "      <th>fat_100g</th>\n",
              "      <th>saturated-fat_100g</th>\n",
              "      <th>carbohydrates_100g</th>\n",
              "      <th>sugars_100g</th>\n",
              "      <th>fiber_100g</th>\n",
              "      <th>proteins_100g</th>\n",
              "      <th>salt_100g</th>\n",
              "      <th>sodium_100g</th>\n",
              "      <th>nutriscore_score</th>\n",
              "    </tr>\n",
              "  </thead>\n",
              "  <tbody>\n",
              "    <tr>\n",
              "      <th>0</th>\n",
              "      <td>0000000000017</td>\n",
              "      <td>1569.0</td>\n",
              "      <td>7.0</td>\n",
              "      <td>3.08</td>\n",
              "      <td>70.1</td>\n",
              "      <td>15.0</td>\n",
              "      <td>0.00</td>\n",
              "      <td>7.8</td>\n",
              "      <td>1.400</td>\n",
              "      <td>0.5600</td>\n",
              "      <td>4.000000</td>\n",
              "    </tr>\n",
              "    <tr>\n",
              "      <th>2</th>\n",
              "      <td>0000000000123</td>\n",
              "      <td>88.0</td>\n",
              "      <td>0.0</td>\n",
              "      <td>0.00</td>\n",
              "      <td>4.8</td>\n",
              "      <td>0.4</td>\n",
              "      <td>0.00</td>\n",
              "      <td>0.2</td>\n",
              "      <td>2.040</td>\n",
              "      <td>0.8160</td>\n",
              "      <td>2.666667</td>\n",
              "    </tr>\n",
              "    <tr>\n",
              "      <th>3</th>\n",
              "      <td>0000000000178</td>\n",
              "      <td>251.0</td>\n",
              "      <td>3.0</td>\n",
              "      <td>1.00</td>\n",
              "      <td>10.0</td>\n",
              "      <td>3.0</td>\n",
              "      <td>0.00</td>\n",
              "      <td>2.0</td>\n",
              "      <td>1.150</td>\n",
              "      <td>0.4600</td>\n",
              "      <td>5.000000</td>\n",
              "    </tr>\n",
              "    <tr>\n",
              "      <th>6</th>\n",
              "      <td>0000000001137</td>\n",
              "      <td>929.0</td>\n",
              "      <td>3.3</td>\n",
              "      <td>2.10</td>\n",
              "      <td>38.4</td>\n",
              "      <td>1.8</td>\n",
              "      <td>0.00</td>\n",
              "      <td>11.7</td>\n",
              "      <td>0.678</td>\n",
              "      <td>0.2712</td>\n",
              "      <td>8.000000</td>\n",
              "    </tr>\n",
              "    <tr>\n",
              "      <th>7</th>\n",
              "      <td>000000000114</td>\n",
              "      <td>2439.0</td>\n",
              "      <td>44.0</td>\n",
              "      <td>28.00</td>\n",
              "      <td>30.0</td>\n",
              "      <td>27.0</td>\n",
              "      <td>0.00</td>\n",
              "      <td>2.1</td>\n",
              "      <td>0.020</td>\n",
              "      <td>0.0080</td>\n",
              "      <td>16.333333</td>\n",
              "    </tr>\n",
              "    <tr>\n",
              "      <th>...</th>\n",
              "      <td>...</td>\n",
              "      <td>...</td>\n",
              "      <td>...</td>\n",
              "      <td>...</td>\n",
              "      <td>...</td>\n",
              "      <td>...</td>\n",
              "      <td>...</td>\n",
              "      <td>...</td>\n",
              "      <td>...</td>\n",
              "      <td>...</td>\n",
              "      <td>...</td>\n",
              "    </tr>\n",
              "    <tr>\n",
              "      <th>530256</th>\n",
              "      <td>9310179008600</td>\n",
              "      <td>201.0</td>\n",
              "      <td>0.0</td>\n",
              "      <td>0.00</td>\n",
              "      <td>10.9</td>\n",
              "      <td>10.0</td>\n",
              "      <td>0.00</td>\n",
              "      <td>40.0</td>\n",
              "      <td>0.040</td>\n",
              "      <td>0.0160</td>\n",
              "      <td>9.000000</td>\n",
              "    </tr>\n",
              "    <tr>\n",
              "      <th>530259</th>\n",
              "      <td>9311627604382</td>\n",
              "      <td>50.0</td>\n",
              "      <td>0.0</td>\n",
              "      <td>0.00</td>\n",
              "      <td>2.8</td>\n",
              "      <td>1.7</td>\n",
              "      <td>0.02</td>\n",
              "      <td>0.1</td>\n",
              "      <td>1.016</td>\n",
              "      <td>0.4064</td>\n",
              "      <td>11.000000</td>\n",
              "    </tr>\n",
              "    <tr>\n",
              "      <th>530271</th>\n",
              "      <td>9556041612692</td>\n",
              "      <td>326.0</td>\n",
              "      <td>0.0</td>\n",
              "      <td>0.00</td>\n",
              "      <td>16.0</td>\n",
              "      <td>14.0</td>\n",
              "      <td>0.00</td>\n",
              "      <td>1.7</td>\n",
              "      <td>4.400</td>\n",
              "      <td>1.7600</td>\n",
              "      <td>15.666667</td>\n",
              "    </tr>\n",
              "    <tr>\n",
              "      <th>530273</th>\n",
              "      <td>9556041612371</td>\n",
              "      <td>816.0</td>\n",
              "      <td>1.0</td>\n",
              "      <td>1.00</td>\n",
              "      <td>47.8</td>\n",
              "      <td>47.6</td>\n",
              "      <td>0.00</td>\n",
              "      <td>1.0</td>\n",
              "      <td>0.375</td>\n",
              "      <td>0.1500</td>\n",
              "      <td>15.666667</td>\n",
              "    </tr>\n",
              "    <tr>\n",
              "      <th>530279</th>\n",
              "      <td>9556041609326</td>\n",
              "      <td>912.0</td>\n",
              "      <td>11.0</td>\n",
              "      <td>2.00</td>\n",
              "      <td>21.0</td>\n",
              "      <td>4.9</td>\n",
              "      <td>0.00</td>\n",
              "      <td>6.4</td>\n",
              "      <td>0.630</td>\n",
              "      <td>0.2520</td>\n",
              "      <td>12.333333</td>\n",
              "    </tr>\n",
              "  </tbody>\n",
              "</table>\n",
              "<p>250445 rows × 11 columns</p>\n",
              "</div>"
            ],
            "text/plain": [
              "                 code  energy_100g  ...  sodium_100g  nutriscore_score\n",
              "0       0000000000017       1569.0  ...       0.5600          4.000000\n",
              "2       0000000000123         88.0  ...       0.8160          2.666667\n",
              "3       0000000000178        251.0  ...       0.4600          5.000000\n",
              "6       0000000001137        929.0  ...       0.2712          8.000000\n",
              "7        000000000114       2439.0  ...       0.0080         16.333333\n",
              "...               ...          ...  ...          ...               ...\n",
              "530256  9310179008600        201.0  ...       0.0160          9.000000\n",
              "530259  9311627604382         50.0  ...       0.4064         11.000000\n",
              "530271  9556041612692        326.0  ...       1.7600         15.666667\n",
              "530273  9556041612371        816.0  ...       0.1500         15.666667\n",
              "530279  9556041609326        912.0  ...       0.2520         12.333333\n",
              "\n",
              "[250445 rows x 11 columns]"
            ]
          },
          "metadata": {
            "tags": []
          },
          "execution_count": 52
        }
      ]
    },
    {
      "cell_type": "code",
      "metadata": {
        "id": "AX8CFqG6b3kx",
        "colab_type": "code",
        "colab": {
          "base_uri": "https://localhost:8080/",
          "height": 406
        },
        "outputId": "a9072e53-c295-4397-8267-a90d30b7d789"
      },
      "source": [
        "data_found[data_found['energy_100g']>0]"
      ],
      "execution_count": null,
      "outputs": [
        {
          "output_type": "execute_result",
          "data": {
            "text/html": [
              "<div>\n",
              "<style scoped>\n",
              "    .dataframe tbody tr th:only-of-type {\n",
              "        vertical-align: middle;\n",
              "    }\n",
              "\n",
              "    .dataframe tbody tr th {\n",
              "        vertical-align: top;\n",
              "    }\n",
              "\n",
              "    .dataframe thead th {\n",
              "        text-align: right;\n",
              "    }\n",
              "</style>\n",
              "<table border=\"1\" class=\"dataframe\">\n",
              "  <thead>\n",
              "    <tr style=\"text-align: right;\">\n",
              "      <th></th>\n",
              "      <th>code</th>\n",
              "      <th>energy_100g</th>\n",
              "      <th>fat_100g</th>\n",
              "      <th>saturated-fat_100g</th>\n",
              "      <th>carbohydrates_100g</th>\n",
              "      <th>sugars_100g</th>\n",
              "      <th>fiber_100g</th>\n",
              "      <th>proteins_100g</th>\n",
              "      <th>salt_100g</th>\n",
              "      <th>sodium_100g</th>\n",
              "      <th>nutriscore_score</th>\n",
              "    </tr>\n",
              "  </thead>\n",
              "  <tbody>\n",
              "    <tr>\n",
              "      <th>0</th>\n",
              "      <td>0000000000017</td>\n",
              "      <td>1569.0</td>\n",
              "      <td>7.0</td>\n",
              "      <td>3.08</td>\n",
              "      <td>70.1</td>\n",
              "      <td>15.0</td>\n",
              "      <td>0.00</td>\n",
              "      <td>7.8</td>\n",
              "      <td>1.400</td>\n",
              "      <td>0.5600</td>\n",
              "      <td>4.000000</td>\n",
              "    </tr>\n",
              "    <tr>\n",
              "      <th>2</th>\n",
              "      <td>0000000000123</td>\n",
              "      <td>88.0</td>\n",
              "      <td>0.0</td>\n",
              "      <td>0.00</td>\n",
              "      <td>4.8</td>\n",
              "      <td>0.4</td>\n",
              "      <td>0.00</td>\n",
              "      <td>0.2</td>\n",
              "      <td>2.040</td>\n",
              "      <td>0.8160</td>\n",
              "      <td>2.666667</td>\n",
              "    </tr>\n",
              "    <tr>\n",
              "      <th>3</th>\n",
              "      <td>0000000000178</td>\n",
              "      <td>251.0</td>\n",
              "      <td>3.0</td>\n",
              "      <td>1.00</td>\n",
              "      <td>10.0</td>\n",
              "      <td>3.0</td>\n",
              "      <td>0.00</td>\n",
              "      <td>2.0</td>\n",
              "      <td>1.150</td>\n",
              "      <td>0.4600</td>\n",
              "      <td>5.000000</td>\n",
              "    </tr>\n",
              "    <tr>\n",
              "      <th>5</th>\n",
              "      <td>0000000000970</td>\n",
              "      <td>540.0</td>\n",
              "      <td>4.9</td>\n",
              "      <td>3.10</td>\n",
              "      <td>16.3</td>\n",
              "      <td>16.3</td>\n",
              "      <td>0.00</td>\n",
              "      <td>4.4</td>\n",
              "      <td>0.250</td>\n",
              "      <td>0.1000</td>\n",
              "      <td>0.333333</td>\n",
              "    </tr>\n",
              "    <tr>\n",
              "      <th>6</th>\n",
              "      <td>0000000001137</td>\n",
              "      <td>929.0</td>\n",
              "      <td>3.3</td>\n",
              "      <td>2.10</td>\n",
              "      <td>38.4</td>\n",
              "      <td>1.8</td>\n",
              "      <td>0.00</td>\n",
              "      <td>11.7</td>\n",
              "      <td>0.678</td>\n",
              "      <td>0.2712</td>\n",
              "      <td>8.000000</td>\n",
              "    </tr>\n",
              "    <tr>\n",
              "      <th>...</th>\n",
              "      <td>...</td>\n",
              "      <td>...</td>\n",
              "      <td>...</td>\n",
              "      <td>...</td>\n",
              "      <td>...</td>\n",
              "      <td>...</td>\n",
              "      <td>...</td>\n",
              "      <td>...</td>\n",
              "      <td>...</td>\n",
              "      <td>...</td>\n",
              "      <td>...</td>\n",
              "    </tr>\n",
              "    <tr>\n",
              "      <th>530256</th>\n",
              "      <td>9310179008600</td>\n",
              "      <td>201.0</td>\n",
              "      <td>0.0</td>\n",
              "      <td>0.00</td>\n",
              "      <td>10.9</td>\n",
              "      <td>10.0</td>\n",
              "      <td>0.00</td>\n",
              "      <td>40.0</td>\n",
              "      <td>0.040</td>\n",
              "      <td>0.0160</td>\n",
              "      <td>9.000000</td>\n",
              "    </tr>\n",
              "    <tr>\n",
              "      <th>530259</th>\n",
              "      <td>9311627604382</td>\n",
              "      <td>50.0</td>\n",
              "      <td>0.0</td>\n",
              "      <td>0.00</td>\n",
              "      <td>2.8</td>\n",
              "      <td>1.7</td>\n",
              "      <td>0.02</td>\n",
              "      <td>0.1</td>\n",
              "      <td>1.016</td>\n",
              "      <td>0.4064</td>\n",
              "      <td>11.000000</td>\n",
              "    </tr>\n",
              "    <tr>\n",
              "      <th>530271</th>\n",
              "      <td>9556041612692</td>\n",
              "      <td>326.0</td>\n",
              "      <td>0.0</td>\n",
              "      <td>0.00</td>\n",
              "      <td>16.0</td>\n",
              "      <td>14.0</td>\n",
              "      <td>0.00</td>\n",
              "      <td>1.7</td>\n",
              "      <td>4.400</td>\n",
              "      <td>1.7600</td>\n",
              "      <td>15.666667</td>\n",
              "    </tr>\n",
              "    <tr>\n",
              "      <th>530273</th>\n",
              "      <td>9556041612371</td>\n",
              "      <td>816.0</td>\n",
              "      <td>1.0</td>\n",
              "      <td>1.00</td>\n",
              "      <td>47.8</td>\n",
              "      <td>47.6</td>\n",
              "      <td>0.00</td>\n",
              "      <td>1.0</td>\n",
              "      <td>0.375</td>\n",
              "      <td>0.1500</td>\n",
              "      <td>15.666667</td>\n",
              "    </tr>\n",
              "    <tr>\n",
              "      <th>530279</th>\n",
              "      <td>9556041609326</td>\n",
              "      <td>912.0</td>\n",
              "      <td>11.0</td>\n",
              "      <td>2.00</td>\n",
              "      <td>21.0</td>\n",
              "      <td>4.9</td>\n",
              "      <td>0.00</td>\n",
              "      <td>6.4</td>\n",
              "      <td>0.630</td>\n",
              "      <td>0.2520</td>\n",
              "      <td>12.333333</td>\n",
              "    </tr>\n",
              "  </tbody>\n",
              "</table>\n",
              "<p>282808 rows × 11 columns</p>\n",
              "</div>"
            ],
            "text/plain": [
              "                 code  energy_100g  ...  sodium_100g  nutriscore_score\n",
              "0       0000000000017       1569.0  ...       0.5600          4.000000\n",
              "2       0000000000123         88.0  ...       0.8160          2.666667\n",
              "3       0000000000178        251.0  ...       0.4600          5.000000\n",
              "5       0000000000970        540.0  ...       0.1000          0.333333\n",
              "6       0000000001137        929.0  ...       0.2712          8.000000\n",
              "...               ...          ...  ...          ...               ...\n",
              "530256  9310179008600        201.0  ...       0.0160          9.000000\n",
              "530259  9311627604382         50.0  ...       0.4064         11.000000\n",
              "530271  9556041612692        326.0  ...       1.7600         15.666667\n",
              "530273  9556041612371        816.0  ...       0.1500         15.666667\n",
              "530279  9556041609326        912.0  ...       0.2520         12.333333\n",
              "\n",
              "[282808 rows x 11 columns]"
            ]
          },
          "metadata": {
            "tags": []
          },
          "execution_count": 53
        }
      ]
    },
    {
      "cell_type": "code",
      "metadata": {
        "id": "VKnwxt_1RkNj",
        "colab_type": "code",
        "colab": {
          "base_uri": "https://localhost:8080/",
          "height": 119
        },
        "outputId": "a687fa4b-e9f3-4d39-e47c-440b94f83ec4"
      },
      "source": [
        "data['nutriscore_score']=target\n"
      ],
      "execution_count": null,
      "outputs": [
        {
          "output_type": "stream",
          "text": [
            "/usr/local/lib/python3.6/dist-packages/ipykernel_launcher.py:1: SettingWithCopyWarning: \n",
            "A value is trying to be set on a copy of a slice from a DataFrame.\n",
            "Try using .loc[row_indexer,col_indexer] = value instead\n",
            "\n",
            "See the caveats in the documentation: https://pandas.pydata.org/pandas-docs/stable/user_guide/indexing.html#returning-a-view-versus-a-copy\n",
            "  \"\"\"Entry point for launching an IPython kernel.\n"
          ],
          "name": "stderr"
        }
      ]
    },
    {
      "cell_type": "code",
      "metadata": {
        "id": "EQFD92T0TCod",
        "colab_type": "code",
        "colab": {}
      },
      "source": [
        "data = data.append(data_found)"
      ],
      "execution_count": null,
      "outputs": []
    },
    {
      "cell_type": "code",
      "metadata": {
        "id": "gRnNXgAqQwEn",
        "colab_type": "code",
        "colab": {
          "base_uri": "https://localhost:8080/",
          "height": 34
        },
        "outputId": "f02cf17a-a188-4893-fda7-a22193b79e89"
      },
      "source": [
        "data.shape"
      ],
      "execution_count": null,
      "outputs": [
        {
          "output_type": "execute_result",
          "data": {
            "text/plain": [
              "(528953, 11)"
            ]
          },
          "metadata": {
            "tags": []
          },
          "execution_count": 35
        }
      ]
    },
    {
      "cell_type": "code",
      "metadata": {
        "id": "-cesxWbOQk3o",
        "colab_type": "code",
        "colab": {
          "base_uri": "https://localhost:8080/",
          "height": 774
        },
        "outputId": "bc4f5d5a-6be0-4202-dfda-06e382c86f35"
      },
      "source": [
        "import missingno as msno\n",
        "msno.matrix(data)"
      ],
      "execution_count": null,
      "outputs": [
        {
          "output_type": "stream",
          "text": [
            "/usr/local/lib/python3.6/dist-packages/statsmodels/tools/_testing.py:19: FutureWarning: pandas.util.testing is deprecated. Use the functions in the public API at pandas.testing instead.\n",
            "  import pandas.util.testing as tm\n"
          ],
          "name": "stderr"
        },
        {
          "output_type": "execute_result",
          "data": {
            "text/plain": [
              "<matplotlib.axes._subplots.AxesSubplot at 0x7f887c134780>"
            ]
          },
          "metadata": {
            "tags": []
          },
          "execution_count": 57
        },
        {
          "output_type": "display_data",
          "data": {
            "image/png": "[encoded data removed]",
            "text/plain": [
              "<Figure size 1800x720 with 2 Axes>"
            ]
          },
          "metadata": {
            "tags": [],
            "needs_background": "light"
          }
        }
      ]
    },
    {
      "cell_type": "code",
      "metadata": {
        "id": "fJrFIaFPQqHt",
        "colab_type": "code",
        "colab": {}
      },
      "source": [
        "data.to_csv('/content/drive/My Drive/Colab Notebooks/fr.openfoodfacts.org.products.csv/knn.nutriscore.fr.clean.lowfeatures.openfoodfacts.org.products.csv',sep='\\t', encoding='utf-8', header=True)"
      ],
      "execution_count": null,
      "outputs": []
    },
    {
      "cell_type": "code",
      "metadata": {
        "id": "jiIQjgd9XtEN",
        "colab_type": "code",
        "colab": {
          "base_uri": "https://localhost:8080/",
          "height": 85
        },
        "outputId": "3040d6f3-098f-4117-dfea-abc59fad782e"
      },
      "source": [
        "data.columns"
      ],
      "execution_count": null,
      "outputs": [
        {
          "output_type": "execute_result",
          "data": {
            "text/plain": [
              "Index(['code', 'energy_100g', 'fat_100g', 'saturated-fat_100g',\n",
              "       'carbohydrates_100g', 'sugars_100g', 'fiber_100g', 'proteins_100g',\n",
              "       'salt_100g', 'sodium_100g', 'nutriscore_score'],\n",
              "      dtype='object')"
            ]
          },
          "metadata": {
            "tags": []
          },
          "execution_count": 37
        }
      ]
    },
    {
      "cell_type": "code",
      "metadata": {
        "id": "b2c3BzVKg_BF",
        "colab_type": "code",
        "colab": {}
      },
      "source": [
        "df2 =pd.merge ( df, data , on=['code', 'energy_100g', 'fat_100g', 'saturated-fat_100g',\n",
        "       'carbohydrates_100g', 'sugars_100g', 'fiber_100g', 'proteins_100g',\n",
        "       'salt_100g', 'sodium_100g'])\n",
        "df2.drop(columns= ['nutriscore_score_x'],inplace=True)\n",
        "df2 = df2.rename(columns={'nutriscore_score_y': 'nutriscore_score'})\n",
        "#msno.matrix(df2)"
      ],
      "execution_count": null,
      "outputs": []
    },
    {
      "cell_type": "code",
      "metadata": {
        "id": "vwGUx-n4XK6Y",
        "colab_type": "code",
        "colab": {}
      },
      "source": [
        "df2.to_csv('/content/drive/My Drive/Colab Notebooks/fr.openfoodfacts.org.products.csv/mergeNS.knn.nutriscore.fr.clean.lowfeatures.openfoodfacts.org.products.csv',sep='\\t', encoding='utf-8', header=True)"
      ],
      "execution_count": null,
      "outputs": []
    },
    {
      "cell_type": "code",
      "metadata": {
        "id": "sJXjjYGF54fZ",
        "colab_type": "code",
        "colab": {
          "base_uri": "https://localhost:8080/",
          "height": 34
        },
        "outputId": "4bb83c49-1b05-4590-b9e0-7c0f26792a01"
      },
      "source": [
        "len(df2)"
      ],
      "execution_count": null,
      "outputs": [
        {
          "output_type": "execute_result",
          "data": {
            "text/plain": [
              "528953"
            ]
          },
          "metadata": {
            "tags": []
          },
          "execution_count": 40
        }
      ]
    },
    {
      "cell_type": "code",
      "metadata": {
        "id": "66r_PjeI58Sp",
        "colab_type": "code",
        "colab": {}
      },
      "source": [
        ""
      ],
      "execution_count": null,
      "outputs": []
    }
  ]
}