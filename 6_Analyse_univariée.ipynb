{
  "nbformat": 4,
  "nbformat_minor": 0,
  "metadata": {
    "colab": {
      "name": "6.Analyse-univariée.ipynb",
      "provenance": [],
      "collapsed_sections": [],
      "mount_file_id": "1RMXdaQFHvSdkbKnsn0RJTe1omgcBgZg1",
      "authorship_tag": "ABX9TyMl/t/BPTE12itiOqEgqJXk",
      "include_colab_link": true
    },
    "kernelspec": {
      "name": "python3",
      "display_name": "Python 3"
    },
    "widgets": {
      "application/vnd.jupyter.widget-state+json": {
        "54fa9765c70d4dbd8c0d56851e330a3b": {
          "model_module": "@jupyter-widgets/controls",
          "model_name": "VBoxModel",
          "state": {
            "_view_name": "VBoxView",
            "_dom_classes": [
              "widget-interact"
            ],
            "_model_name": "VBoxModel",
            "_view_module": "@jupyter-widgets/controls",
            "_model_module_version": "1.5.0",
            "_view_count": null,
            "_view_module_version": "1.5.0",
            "box_style": "",
            "layout": "IPY_MODEL_28292f4044fe4b8fa93cfb0fa57bf321",
            "_model_module": "@jupyter-widgets/controls",
            "children": [
              "IPY_MODEL_b906a97ff9c841439c4278ec46752c13",
              "IPY_MODEL_717306aeae074fca8f112441c39adc21"
            ]
          }
        },
        "28292f4044fe4b8fa93cfb0fa57bf321": {
          "model_module": "@jupyter-widgets/base",
          "model_name": "LayoutModel",
          "state": {
            "_view_name": "LayoutView",
            "grid_template_rows": null,
            "right": null,
            "justify_content": null,
            "_view_module": "@jupyter-widgets/base",
            "overflow": null,
            "_model_module_version": "1.2.0",
            "_view_count": null,
            "flex_flow": null,
            "width": null,
            "min_width": null,
            "border": null,
            "align_items": null,
            "bottom": null,
            "_model_module": "@jupyter-widgets/base",
            "top": null,
            "grid_column": null,
            "overflow_y": null,
            "overflow_x": null,
            "grid_auto_flow": null,
            "grid_area": null,
            "grid_template_columns": null,
            "flex": null,
            "_model_name": "LayoutModel",
            "justify_items": null,
            "grid_row": null,
            "max_height": null,
            "align_content": null,
            "visibility": null,
            "align_self": null,
            "height": null,
            "min_height": null,
            "padding": null,
            "grid_auto_rows": null,
            "grid_gap": null,
            "max_width": null,
            "order": null,
            "_view_module_version": "1.2.0",
            "grid_template_areas": null,
            "object_position": null,
            "object_fit": null,
            "grid_auto_columns": null,
            "margin": null,
            "display": null,
            "left": null
          }
        },
        "b906a97ff9c841439c4278ec46752c13": {
          "model_module": "@jupyter-widgets/controls",
          "model_name": "DropdownModel",
          "state": {
            "_options_labels": [
              "energy_100g",
              "fat_100g",
              "saturated-fat_100g",
              "carbohydrates_100g",
              "sugars_100g",
              "fiber_100g",
              "proteins_100g",
              "salt_100g",
              "sodium_100g"
            ],
            "_view_name": "DropdownView",
            "style": "IPY_MODEL_4b47aebbe17d404f835e3f0a947dde19",
            "_dom_classes": [],
            "description": "Colums :",
            "_model_name": "DropdownModel",
            "index": 0,
            "_view_module": "@jupyter-widgets/controls",
            "_model_module_version": "1.5.0",
            "_view_count": null,
            "disabled": false,
            "_view_module_version": "1.5.0",
            "description_tooltip": null,
            "_model_module": "@jupyter-widgets/controls",
            "layout": "IPY_MODEL_6f470d1f8076405a876853d4f818c114"
          }
        },
        "717306aeae074fca8f112441c39adc21": {
          "model_module": "@jupyter-widgets/output",
          "model_name": "OutputModel",
          "state": {
            "_view_name": "OutputView",
            "msg_id": "",
            "_dom_classes": [],
            "_model_name": "OutputModel",
            "outputs": [
              {
                "output_type": "display_data",
                "metadata": {
                  "tags": [],
                  "needs_background": "light"
                },
                "image/png": "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\n",
                "text/plain": "<Figure size 432x288 with 1 Axes>"
              },
              {
                "output_type": "display_data",
                "metadata": {
                  "tags": []
                },
                "text/plain": "Text(0.5, 1.0, 'Distribution de energy_100g')"
              }
            ],
            "_view_module": "@jupyter-widgets/output",
            "_model_module_version": "1.0.0",
            "_view_count": null,
            "_view_module_version": "1.0.0",
            "layout": "IPY_MODEL_3be64144f5924224968a5e7ca4f6d065",
            "_model_module": "@jupyter-widgets/output"
          }
        },
        "4b47aebbe17d404f835e3f0a947dde19": {
          "model_module": "@jupyter-widgets/controls",
          "model_name": "DescriptionStyleModel",
          "state": {
            "_view_name": "StyleView",
            "_model_name": "DescriptionStyleModel",
            "description_width": "",
            "_view_module": "@jupyter-widgets/base",
            "_model_module_version": "1.5.0",
            "_view_count": null,
            "_view_module_version": "1.2.0",
            "_model_module": "@jupyter-widgets/controls"
          }
        },
        "6f470d1f8076405a876853d4f818c114": {
          "model_module": "@jupyter-widgets/base",
          "model_name": "LayoutModel",
          "state": {
            "_view_name": "LayoutView",
            "grid_template_rows": null,
            "right": null,
            "justify_content": null,
            "_view_module": "@jupyter-widgets/base",
            "overflow": null,
            "_model_module_version": "1.2.0",
            "_view_count": null,
            "flex_flow": null,
            "width": null,
            "min_width": null,
            "border": null,
            "align_items": null,
            "bottom": null,
            "_model_module": "@jupyter-widgets/base",
            "top": null,
            "grid_column": null,
            "overflow_y": null,
            "overflow_x": null,
            "grid_auto_flow": null,
            "grid_area": null,
            "grid_template_columns": null,
            "flex": null,
            "_model_name": "LayoutModel",
            "justify_items": null,
            "grid_row": null,
            "max_height": null,
            "align_content": null,
            "visibility": null,
            "align_self": null,
            "height": null,
            "min_height": null,
            "padding": null,
            "grid_auto_rows": null,
            "grid_gap": null,
            "max_width": null,
            "order": null,
            "_view_module_version": "1.2.0",
            "grid_template_areas": null,
            "object_position": null,
            "object_fit": null,
            "grid_auto_columns": null,
            "margin": null,
            "display": null,
            "left": null
          }
        },
        "3be64144f5924224968a5e7ca4f6d065": {
          "model_module": "@jupyter-widgets/base",
          "model_name": "LayoutModel",
          "state": {
            "_view_name": "LayoutView",
            "grid_template_rows": null,
            "right": null,
            "justify_content": null,
            "_view_module": "@jupyter-widgets/base",
            "overflow": null,
            "_model_module_version": "1.2.0",
            "_view_count": null,
            "flex_flow": null,
            "width": null,
            "min_width": null,
            "border": null,
            "align_items": null,
            "bottom": null,
            "_model_module": "@jupyter-widgets/base",
            "top": null,
            "grid_column": null,
            "overflow_y": null,
            "overflow_x": null,
            "grid_auto_flow": null,
            "grid_area": null,
            "grid_template_columns": null,
            "flex": null,
            "_model_name": "LayoutModel",
            "justify_items": null,
            "grid_row": null,
            "max_height": null,
            "align_content": null,
            "visibility": null,
            "align_self": null,
            "height": null,
            "min_height": null,
            "padding": null,
            "grid_auto_rows": null,
            "grid_gap": null,
            "max_width": null,
            "order": null,
            "_view_module_version": "1.2.0",
            "grid_template_areas": null,
            "object_position": null,
            "object_fit": null,
            "grid_auto_columns": null,
            "margin": null,
            "display": null,
            "left": null
          }
        }
      }
    }
  },
  "cells": [
    {
      "cell_type": "markdown",
      "metadata": {
        "id": "view-in-github",
        "colab_type": "text"
      },
      "source": [
        "<a href=\"https://colab.research.google.com/github/SuanTay/P3/blob/master/6_Analyse_univari%C3%A9e.ipynb\" target=\"_parent\"><img src=\"https://colab.research.google.com/assets/colab-badge.svg\" alt=\"Open In Colab\"/></a>"
      ]
    },
    {
      "cell_type": "markdown",
      "metadata": {
        "id": "-6pMvDCW_x2u",
        "colab_type": "text"
      },
      "source": [
        "# Analyse univariée"
      ]
    },
    {
      "cell_type": "code",
      "metadata": {
        "id": "Qbpl61RA_r_G",
        "colab_type": "code",
        "colab": {
          "base_uri": "https://localhost:8080/",
          "height": 52
        },
        "outputId": "c9e0dccd-a275-4875-abf7-49c530a4a38d"
      },
      "source": [
        "import pandas as pd\n",
        "import pandas.util.testing as tm\n",
        "import numpy as np\n",
        "import matplotlib.pyplot as plt\n",
        "import seaborn as sns\n",
        "import missingno as msno\n"
      ],
      "execution_count": null,
      "outputs": [
        {
          "output_type": "stream",
          "text": [
            "/usr/local/lib/python3.6/dist-packages/ipykernel_launcher.py:2: FutureWarning: pandas.util.testing is deprecated. Use the functions in the public API at pandas.testing instead.\n",
            "  \n"
          ],
          "name": "stderr"
        }
      ]
    },
    {
      "cell_type": "code",
      "metadata": {
        "id": "SpNniEMMUIa5",
        "colab_type": "code",
        "colab": {}
      },
      "source": [
        "df = pd.read_csv('/content/drive/My Drive/Colab Notebooks/fr.openfoodfacts.org.products.csv/openfoodfacts.csv', sep='\\t', low_memory=False)\n",
        "df=df[['energy_100g', 'fat_100g', 'saturated-fat_100g', 'carbohydrates_100g',\n",
        "       'sugars_100g', 'fiber_100g', 'proteins_100g', 'salt_100g',\n",
        "       'sodium_100g','nutriscore_score','nutriscore_grade']]\n"
      ],
      "execution_count": null,
      "outputs": []
    },
    {
      "cell_type": "markdown",
      "metadata": {
        "id": "luvwRma3-QM3",
        "colab_type": "text"
      },
      "source": [
        "## Description des données"
      ]
    },
    {
      "cell_type": "code",
      "metadata": {
        "id": "uupmnfwmuUtB",
        "colab_type": "code",
        "colab": {
          "base_uri": "https://localhost:8080/",
          "height": 287
        },
        "outputId": "492d6657-a817-479d-d839-b01002d845a1"
      },
      "source": [
        "df.describe()"
      ],
      "execution_count": null,
      "outputs": [
        {
          "output_type": "execute_result",
          "data": {
            "text/html": [
              "<div>\n",
              "<style scoped>\n",
              "    .dataframe tbody tr th:only-of-type {\n",
              "        vertical-align: middle;\n",
              "    }\n",
              "\n",
              "    .dataframe tbody tr th {\n",
              "        vertical-align: top;\n",
              "    }\n",
              "\n",
              "    .dataframe thead th {\n",
              "        text-align: right;\n",
              "    }\n",
              "</style>\n",
              "<table border=\"1\" class=\"dataframe\">\n",
              "  <thead>\n",
              "    <tr style=\"text-align: right;\">\n",
              "      <th></th>\n",
              "      <th>energy_100g</th>\n",
              "      <th>fat_100g</th>\n",
              "      <th>saturated-fat_100g</th>\n",
              "      <th>carbohydrates_100g</th>\n",
              "      <th>sugars_100g</th>\n",
              "      <th>fiber_100g</th>\n",
              "      <th>proteins_100g</th>\n",
              "      <th>salt_100g</th>\n",
              "      <th>sodium_100g</th>\n",
              "      <th>nutriscore_score</th>\n",
              "    </tr>\n",
              "  </thead>\n",
              "  <tbody>\n",
              "    <tr>\n",
              "      <th>count</th>\n",
              "      <td>530286.000000</td>\n",
              "      <td>530286.000000</td>\n",
              "      <td>530286.000000</td>\n",
              "      <td>530286.000000</td>\n",
              "      <td>530286.000000</td>\n",
              "      <td>530286.000000</td>\n",
              "      <td>530286.000000</td>\n",
              "      <td>530286.000000</td>\n",
              "      <td>530286.000000</td>\n",
              "      <td>530286.000000</td>\n",
              "    </tr>\n",
              "    <tr>\n",
              "      <th>mean</th>\n",
              "      <td>1160.366594</td>\n",
              "      <td>14.133263</td>\n",
              "      <td>5.485334</td>\n",
              "      <td>27.397025</td>\n",
              "      <td>13.869926</td>\n",
              "      <td>0.723765</td>\n",
              "      <td>8.933855</td>\n",
              "      <td>1.267101</td>\n",
              "      <td>0.506940</td>\n",
              "      <td>9.903028</td>\n",
              "    </tr>\n",
              "    <tr>\n",
              "      <th>std</th>\n",
              "      <td>774.139214</td>\n",
              "      <td>17.027860</td>\n",
              "      <td>7.931299</td>\n",
              "      <td>27.727842</td>\n",
              "      <td>20.014237</td>\n",
              "      <td>2.776751</td>\n",
              "      <td>9.905470</td>\n",
              "      <td>4.541203</td>\n",
              "      <td>1.817757</td>\n",
              "      <td>7.955196</td>\n",
              "    </tr>\n",
              "    <tr>\n",
              "      <th>min</th>\n",
              "      <td>0.000000</td>\n",
              "      <td>0.000000</td>\n",
              "      <td>0.000000</td>\n",
              "      <td>0.000000</td>\n",
              "      <td>0.000000</td>\n",
              "      <td>0.000000</td>\n",
              "      <td>0.000000</td>\n",
              "      <td>0.000000</td>\n",
              "      <td>0.000000</td>\n",
              "      <td>-15.000000</td>\n",
              "    </tr>\n",
              "    <tr>\n",
              "      <th>25%</th>\n",
              "      <td>490.000000</td>\n",
              "      <td>1.100000</td>\n",
              "      <td>0.280000</td>\n",
              "      <td>2.800000</td>\n",
              "      <td>0.700000</td>\n",
              "      <td>0.000000</td>\n",
              "      <td>1.700000</td>\n",
              "      <td>0.070000</td>\n",
              "      <td>0.028000</td>\n",
              "      <td>3.333333</td>\n",
              "    </tr>\n",
              "    <tr>\n",
              "      <th>50%</th>\n",
              "      <td>1121.000000</td>\n",
              "      <td>8.100000</td>\n",
              "      <td>2.100000</td>\n",
              "      <td>14.000000</td>\n",
              "      <td>3.600000</td>\n",
              "      <td>0.000000</td>\n",
              "      <td>6.300000</td>\n",
              "      <td>0.530000</td>\n",
              "      <td>0.212000</td>\n",
              "      <td>10.000000</td>\n",
              "    </tr>\n",
              "    <tr>\n",
              "      <th>75%</th>\n",
              "      <td>1682.000000</td>\n",
              "      <td>22.300000</td>\n",
              "      <td>8.100000</td>\n",
              "      <td>52.600000</td>\n",
              "      <td>20.000000</td>\n",
              "      <td>0.000000</td>\n",
              "      <td>12.900000</td>\n",
              "      <td>1.300000</td>\n",
              "      <td>0.520000</td>\n",
              "      <td>15.666667</td>\n",
              "    </tr>\n",
              "    <tr>\n",
              "      <th>max</th>\n",
              "      <td>3772.000000</td>\n",
              "      <td>100.000000</td>\n",
              "      <td>100.000000</td>\n",
              "      <td>100.000000</td>\n",
              "      <td>100.000000</td>\n",
              "      <td>100.000000</td>\n",
              "      <td>100.000000</td>\n",
              "      <td>100.000000</td>\n",
              "      <td>49.987200</td>\n",
              "      <td>40.000000</td>\n",
              "    </tr>\n",
              "  </tbody>\n",
              "</table>\n",
              "</div>"
            ],
            "text/plain": [
              "         energy_100g       fat_100g  ...    sodium_100g  nutriscore_score\n",
              "count  530286.000000  530286.000000  ...  530286.000000     530286.000000\n",
              "mean     1160.366594      14.133263  ...       0.506940          9.903028\n",
              "std       774.139214      17.027860  ...       1.817757          7.955196\n",
              "min         0.000000       0.000000  ...       0.000000        -15.000000\n",
              "25%       490.000000       1.100000  ...       0.028000          3.333333\n",
              "50%      1121.000000       8.100000  ...       0.212000         10.000000\n",
              "75%      1682.000000      22.300000  ...       0.520000         15.666667\n",
              "max      3772.000000     100.000000  ...      49.987200         40.000000\n",
              "\n",
              "[8 rows x 10 columns]"
            ]
          },
          "metadata": {
            "tags": []
          },
          "execution_count": 4
        }
      ]
    },
    {
      "cell_type": "code",
      "metadata": {
        "id": "W8PAuHyxUxIk",
        "colab_type": "code",
        "colab": {}
      },
      "source": [
        "df_eval=df[['energy_100g', 'fat_100g', 'saturated-fat_100g', 'carbohydrates_100g',\n",
        "       'sugars_100g', 'fiber_100g', 'proteins_100g', 'salt_100g',\n",
        "       'sodium_100g']]"
      ],
      "execution_count": null,
      "outputs": []
    },
    {
      "cell_type": "markdown",
      "metadata": {
        "id": "PdvhsZdp-68B",
        "colab_type": "text"
      },
      "source": [
        "## Graphiques de distribution des variables"
      ]
    },
    {
      "cell_type": "code",
      "metadata": {
        "id": "_TovuToIAMIN",
        "colab_type": "code",
        "colab": {
          "base_uri": "https://localhost:8080/",
          "height": 363,
          "referenced_widgets": [
            "54fa9765c70d4dbd8c0d56851e330a3b",
            "28292f4044fe4b8fa93cfb0fa57bf321",
            "b906a97ff9c841439c4278ec46752c13",
            "717306aeae074fca8f112441c39adc21",
            "4b47aebbe17d404f835e3f0a947dde19",
            "6f470d1f8076405a876853d4f818c114",
            "3be64144f5924224968a5e7ca4f6d065"
          ]
        },
        "outputId": "73bc669b-d8af-4904-d6d1-0f54adbf0bb8"
      },
      "source": [
        "import ipywidgets \n",
        "\n",
        "w=ipywidgets.Dropdown(options=df_eval.columns, description='Colums :')\n",
        "\n",
        "def dist(col):\n",
        "   x = pd.Series(df_eval[col])\n",
        "   ax = sns.distplot(x)\n",
        "   return plt.title(\"Distribution de \"+ col)\n",
        "\n",
        "\n",
        "ipywidgets.interact(dist, col=w)"
      ],
      "execution_count": null,
      "outputs": [
        {
          "output_type": "display_data",
          "data": {
            "application/vnd.jupyter.widget-view+json": {
              "model_id": "54fa9765c70d4dbd8c0d56851e330a3b",
              "version_minor": 0,
              "version_major": 2
            },
            "text/plain": [
              "interactive(children=(Dropdown(description='Colums :', options=('energy_100g', 'fat_100g', 'saturated-fat_100g…"
            ]
          },
          "metadata": {
            "tags": []
          }
        },
        {
          "output_type": "execute_result",
          "data": {
            "text/plain": [
              "<function __main__.dist>"
            ]
          },
          "metadata": {
            "tags": []
          },
          "execution_count": 6
        }
      ]
    },
    {
      "cell_type": "code",
      "metadata": {
        "id": "4PmeWRxsRiIg",
        "colab_type": "code",
        "colab": {}
      },
      "source": [
        ""
      ],
      "execution_count": null,
      "outputs": []
    }
  ]
}