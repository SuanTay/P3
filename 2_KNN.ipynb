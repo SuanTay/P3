{
  "nbformat": 4,
  "nbformat_minor": 0,
  "metadata": {
    "colab": {
      "name": "2.KNN.ipynb",
      "provenance": [],
      "toc_visible": true,
      "mount_file_id": "1peNrT1pRQcB37bbxWZhyikOZROemqBKB",
      "authorship_tag": "ABX9TyOgoZCCsVk8emOChFO8mBVp",
      "include_colab_link": true
    },
    "kernelspec": {
      "name": "python3",
      "display_name": "Python 3"
    }
  },
  "cells": [
    {
      "cell_type": "markdown",
      "metadata": {
        "id": "view-in-github",
        "colab_type": "text"
      },
      "source": [
        "<a href=\"https://colab.research.google.com/github/SuanTay/P3/blob/master/2_KNN.ipynb\" target=\"_parent\"><img src=\"https://colab.research.google.com/assets/colab-badge.svg\" alt=\"Open In Colab\"/></a>"
      ]
    },
    {
      "cell_type": "markdown",
      "metadata": {
        "id": "EvUS6gcOECDH",
        "colab_type": "text"
      },
      "source": [
        "# **KNN**"
      ]
    },
    {
      "cell_type": "code",
      "metadata": {
        "id": "7CQVNmp_EA97",
        "colab_type": "code",
        "colab": {
          "base_uri": "https://localhost:8080/",
          "height": 34
        },
        "outputId": "b6488513-a0e7-41b4-c3a5-4e9f7e1470cb"
      },
      "source": [
        "import pandas as pd\n",
        "df = pd.read_csv('/content/drive/My Drive/Colab Notebooks/fr.openfoodfacts.org.products.csv/clean.openfoodfacts.csv', sep='\\t', low_memory=False)\n",
        "df.shape\n"
      ],
      "execution_count": null,
      "outputs": [
        {
          "output_type": "execute_result",
          "data": {
            "text/plain": [
              "(528953, 17)"
            ]
          },
          "metadata": {
            "tags": []
          },
          "execution_count": 24
        }
      ]
    },
    {
      "cell_type": "code",
      "metadata": {
        "id": "EIwHHxFe_T87",
        "colab_type": "code",
        "colab": {
          "base_uri": "https://localhost:8080/",
          "height": 102
        },
        "outputId": "9b1b6a11-7f60-4588-80a1-56edb2885c06"
      },
      "source": [
        "df.columns"
      ],
      "execution_count": null,
      "outputs": [
        {
          "output_type": "execute_result",
          "data": {
            "text/plain": [
              "Index(['Unnamed: 0', 'code', 'url', 'product_name', 'countries_fr',\n",
              "       'nutriscore_score', 'nutriscore_grade', 'pnns_groups_2', 'energy_100g',\n",
              "       'fat_100g', 'saturated-fat_100g', 'carbohydrates_100g', 'sugars_100g',\n",
              "       'fiber_100g', 'proteins_100g', 'salt_100g', 'sodium_100g'],\n",
              "      dtype='object')"
            ]
          },
          "metadata": {
            "tags": []
          },
          "execution_count": 4
        }
      ]
    },
    {
      "cell_type": "code",
      "metadata": {
        "id": "gSI0_hYpMQVk",
        "colab_type": "code",
        "colab": {}
      },
      "source": [
        "df.drop(columns=['Unnamed: 0','product_name',  'countries_fr'], inplace=True)"
      ],
      "execution_count": null,
      "outputs": []
    },
    {
      "cell_type": "markdown",
      "metadata": {
        "id": "s66DzjxIELCW",
        "colab_type": "text"
      },
      "source": [
        "## Préparation des données"
      ]
    },
    {
      "cell_type": "code",
      "metadata": {
        "id": "hakw6ziueNyf",
        "colab_type": "code",
        "colab": {
          "base_uri": "https://localhost:8080/",
          "height": 272
        },
        "outputId": "c363c5bf-994c-41b9-c1d1-b2a5ee8a7346"
      },
      "source": [
        "df.isnull().sum()/len(df)"
      ],
      "execution_count": null,
      "outputs": [
        {
          "output_type": "execute_result",
          "data": {
            "text/plain": [
              "code                  0.000000\n",
              "url                   0.000000\n",
              "nutriscore_score      0.545495\n",
              "nutriscore_grade      0.545495\n",
              "pnns_groups_2         0.000000\n",
              "energy_100g           0.000000\n",
              "fat_100g              0.000000\n",
              "saturated-fat_100g    0.000000\n",
              "carbohydrates_100g    0.000000\n",
              "sugars_100g           0.000000\n",
              "fiber_100g            0.000000\n",
              "proteins_100g         0.000000\n",
              "salt_100g             0.000000\n",
              "sodium_100g           0.000000\n",
              "dtype: float64"
            ]
          },
          "metadata": {
            "tags": []
          },
          "execution_count": 6
        }
      ]
    },
    {
      "cell_type": "markdown",
      "metadata": {
        "id": "4PgYvtMWKmIr",
        "colab_type": "text"
      },
      "source": [
        "on cherche a remlpir les nutri grade :\n",
        "\n",
        "1.   separer les données entre ceux qui on des nutri grade et ceux qui n'en n'ont pas.\n",
        "2.   separons les données entre data/target\n",
        "3.   separons les données  80/20 qui correstonde aux train et test."
      ]
    },
    {
      "cell_type": "code",
      "metadata": {
        "id": "s1kqRHJtQP27",
        "colab_type": "code",
        "colab": {
          "base_uri": "https://localhost:8080/",
          "height": 102
        },
        "outputId": "b7f896e0-77f2-4393-b137-88338590b9e6"
      },
      "source": [
        "df.columns"
      ],
      "execution_count": null,
      "outputs": [
        {
          "output_type": "execute_result",
          "data": {
            "text/plain": [
              "Index(['code', 'url', 'nutriscore_score', 'nutriscore_grade', 'pnns_groups_2',\n",
              "       'energy_100g', 'fat_100g', 'saturated-fat_100g', 'carbohydrates_100g',\n",
              "       'sugars_100g', 'fiber_100g', 'proteins_100g', 'salt_100g',\n",
              "       'sodium_100g'],\n",
              "      dtype='object')"
            ]
          },
          "metadata": {
            "tags": []
          },
          "execution_count": 7
        }
      ]
    },
    {
      "cell_type": "code",
      "metadata": {
        "id": "6xCjyj3GP8Oy",
        "colab_type": "code",
        "colab": {}
      },
      "source": [
        "df.drop(columns=['url', 'nutriscore_score', 'pnns_groups_2'], inplace=True)"
      ],
      "execution_count": null,
      "outputs": []
    },
    {
      "cell_type": "code",
      "metadata": {
        "id": "2y_U9jomE0mr",
        "colab_type": "code",
        "colab": {
          "base_uri": "https://localhost:8080/",
          "height": 34
        },
        "outputId": "deeac2ac-c19d-4760-eaa7-d9f67127cbee"
      },
      "source": [
        "data =df[df['nutriscore_grade'].isnull()==False]\n",
        "data.shape"
      ],
      "execution_count": null,
      "outputs": [
        {
          "output_type": "execute_result",
          "data": {
            "text/plain": [
              "(240412, 11)"
            ]
          },
          "metadata": {
            "tags": []
          },
          "execution_count": 9
        }
      ]
    },
    {
      "cell_type": "code",
      "metadata": {
        "id": "gox_EUabM9re",
        "colab_type": "code",
        "colab": {
          "base_uri": "https://localhost:8080/",
          "height": 34
        },
        "outputId": "a4613942-e388-41d4-d251-c74318b53b82"
      },
      "source": [
        "data_found =df[df['nutriscore_grade'].isnull()]\n",
        "data_found.shape"
      ],
      "execution_count": null,
      "outputs": [
        {
          "output_type": "execute_result",
          "data": {
            "text/plain": [
              "(288541, 11)"
            ]
          },
          "metadata": {
            "tags": []
          },
          "execution_count": 10
        }
      ]
    },
    {
      "cell_type": "code",
      "metadata": {
        "id": "-__VMTBpNBjm",
        "colab_type": "code",
        "colab": {
          "base_uri": "https://localhost:8080/",
          "height": 34
        },
        "outputId": "739cba28-3d74-4f22-ce85-e12d73fceb6c"
      },
      "source": [
        "240412 + 288541"
      ],
      "execution_count": null,
      "outputs": [
        {
          "output_type": "execute_result",
          "data": {
            "text/plain": [
              "528953"
            ]
          },
          "metadata": {
            "tags": []
          },
          "execution_count": 10
        }
      ]
    },
    {
      "cell_type": "code",
      "metadata": {
        "id": "G2y7xdiqNuAz",
        "colab_type": "code",
        "colab": {
          "base_uri": "https://localhost:8080/",
          "height": 34
        },
        "outputId": "b2f4207f-5c3e-42fb-bc21-5f6d39d56009"
      },
      "source": [
        "target = data['nutriscore_grade']\n",
        "target.shape"
      ],
      "execution_count": null,
      "outputs": [
        {
          "output_type": "execute_result",
          "data": {
            "text/plain": [
              "(240412,)"
            ]
          },
          "metadata": {
            "tags": []
          },
          "execution_count": 11
        }
      ]
    },
    {
      "cell_type": "code",
      "metadata": {
        "id": "-tlno2kwN_hu",
        "colab_type": "code",
        "colab": {
          "base_uri": "https://localhost:8080/",
          "height": 102
        },
        "outputId": "5284c31c-8dbd-4c15-e25e-29d8c1815d45"
      },
      "source": [
        "data.drop(columns=['nutriscore_grade'], inplace=True)\n"
      ],
      "execution_count": null,
      "outputs": [
        {
          "output_type": "stream",
          "text": [
            "/usr/local/lib/python3.6/dist-packages/pandas/core/frame.py:3997: SettingWithCopyWarning: \n",
            "A value is trying to be set on a copy of a slice from a DataFrame\n",
            "\n",
            "See the caveats in the documentation: https://pandas.pydata.org/pandas-docs/stable/user_guide/indexing.html#returning-a-view-versus-a-copy\n",
            "  errors=errors,\n"
          ],
          "name": "stderr"
        }
      ]
    },
    {
      "cell_type": "code",
      "metadata": {
        "id": "gjrih-2LNmHz",
        "colab_type": "code",
        "colab": {
          "base_uri": "https://localhost:8080/",
          "height": 102
        },
        "outputId": "6d54d25e-e787-4348-ff53-15cc3eb8e1eb"
      },
      "source": [
        "data_found.drop(columns=['nutriscore_grade'], inplace=True)"
      ],
      "execution_count": null,
      "outputs": [
        {
          "output_type": "stream",
          "text": [
            "/usr/local/lib/python3.6/dist-packages/pandas/core/frame.py:3997: SettingWithCopyWarning: \n",
            "A value is trying to be set on a copy of a slice from a DataFrame\n",
            "\n",
            "See the caveats in the documentation: https://pandas.pydata.org/pandas-docs/stable/user_guide/indexing.html#returning-a-view-versus-a-copy\n",
            "  errors=errors,\n"
          ],
          "name": "stderr"
        }
      ]
    },
    {
      "cell_type": "code",
      "metadata": {
        "id": "jfTAb9NqausK",
        "colab_type": "code",
        "colab": {
          "base_uri": "https://localhost:8080/",
          "height": 204
        },
        "outputId": "a1fa8c10-4a04-4e1d-f521-515c3006a1a1"
      },
      "source": [
        "data.head()"
      ],
      "execution_count": null,
      "outputs": [
        {
          "output_type": "execute_result",
          "data": {
            "text/html": [
              "<div>\n",
              "<style scoped>\n",
              "    .dataframe tbody tr th:only-of-type {\n",
              "        vertical-align: middle;\n",
              "    }\n",
              "\n",
              "    .dataframe tbody tr th {\n",
              "        vertical-align: top;\n",
              "    }\n",
              "\n",
              "    .dataframe thead th {\n",
              "        text-align: right;\n",
              "    }\n",
              "</style>\n",
              "<table border=\"1\" class=\"dataframe\">\n",
              "  <thead>\n",
              "    <tr style=\"text-align: right;\">\n",
              "      <th></th>\n",
              "      <th>code</th>\n",
              "      <th>energy_100g</th>\n",
              "      <th>fat_100g</th>\n",
              "      <th>saturated-fat_100g</th>\n",
              "      <th>carbohydrates_100g</th>\n",
              "      <th>sugars_100g</th>\n",
              "      <th>fiber_100g</th>\n",
              "      <th>proteins_100g</th>\n",
              "      <th>salt_100g</th>\n",
              "      <th>sodium_100g</th>\n",
              "    </tr>\n",
              "  </thead>\n",
              "  <tbody>\n",
              "    <tr>\n",
              "      <th>1</th>\n",
              "      <td>0000000000100</td>\n",
              "      <td>936.0</td>\n",
              "      <td>8.2</td>\n",
              "      <td>2.2</td>\n",
              "      <td>29.0</td>\n",
              "      <td>22.0</td>\n",
              "      <td>0.0</td>\n",
              "      <td>5.1</td>\n",
              "      <td>4.60</td>\n",
              "      <td>1.840</td>\n",
              "    </tr>\n",
              "    <tr>\n",
              "      <th>4</th>\n",
              "      <td>0000000000949</td>\n",
              "      <td>134.0</td>\n",
              "      <td>0.3</td>\n",
              "      <td>0.1</td>\n",
              "      <td>5.3</td>\n",
              "      <td>3.9</td>\n",
              "      <td>0.0</td>\n",
              "      <td>0.9</td>\n",
              "      <td>0.42</td>\n",
              "      <td>0.168</td>\n",
              "    </tr>\n",
              "    <tr>\n",
              "      <th>10</th>\n",
              "      <td>0000000001281</td>\n",
              "      <td>1594.0</td>\n",
              "      <td>22.0</td>\n",
              "      <td>15.5</td>\n",
              "      <td>27.3</td>\n",
              "      <td>21.9</td>\n",
              "      <td>4.4</td>\n",
              "      <td>4.6</td>\n",
              "      <td>0.10</td>\n",
              "      <td>0.040</td>\n",
              "    </tr>\n",
              "    <tr>\n",
              "      <th>16</th>\n",
              "      <td>0000000001885</td>\n",
              "      <td>657.0</td>\n",
              "      <td>0.0</td>\n",
              "      <td>0.0</td>\n",
              "      <td>36.0</td>\n",
              "      <td>27.0</td>\n",
              "      <td>3.6</td>\n",
              "      <td>0.6</td>\n",
              "      <td>0.00</td>\n",
              "      <td>0.000</td>\n",
              "    </tr>\n",
              "    <tr>\n",
              "      <th>19</th>\n",
              "      <td>0000000002257</td>\n",
              "      <td>598.0</td>\n",
              "      <td>12.7</td>\n",
              "      <td>1.0</td>\n",
              "      <td>3.9</td>\n",
              "      <td>1.0</td>\n",
              "      <td>0.0</td>\n",
              "      <td>1.9</td>\n",
              "      <td>0.27</td>\n",
              "      <td>0.108</td>\n",
              "    </tr>\n",
              "  </tbody>\n",
              "</table>\n",
              "</div>"
            ],
            "text/plain": [
              "             code  energy_100g  fat_100g  ...  proteins_100g  salt_100g  sodium_100g\n",
              "1   0000000000100        936.0       8.2  ...            5.1       4.60        1.840\n",
              "4   0000000000949        134.0       0.3  ...            0.9       0.42        0.168\n",
              "10  0000000001281       1594.0      22.0  ...            4.6       0.10        0.040\n",
              "16  0000000001885        657.0       0.0  ...            0.6       0.00        0.000\n",
              "19  0000000002257        598.0      12.7  ...            1.9       0.27        0.108\n",
              "\n",
              "[5 rows x 10 columns]"
            ]
          },
          "metadata": {
            "tags": []
          },
          "execution_count": 14
        }
      ]
    },
    {
      "cell_type": "code",
      "metadata": {
        "id": "E0U8P1VTOQsf",
        "colab_type": "code",
        "colab": {}
      },
      "source": [
        "#\n",
        "from sklearn.model_selection import train_test_split\n",
        "\n",
        "xtrain, xtest, ytrain, ytest = train_test_split(data, target, train_size=0.8)\n"
      ],
      "execution_count": null,
      "outputs": []
    },
    {
      "cell_type": "code",
      "metadata": {
        "id": "uRDE4-CEO75r",
        "colab_type": "code",
        "colab": {
          "base_uri": "https://localhost:8080/",
          "height": 34
        },
        "outputId": "8e298453-638f-41c9-e2ad-4e1f513293d6"
      },
      "source": [
        "xtrain.shape"
      ],
      "execution_count": null,
      "outputs": [
        {
          "output_type": "execute_result",
          "data": {
            "text/plain": [
              "(192329, 10)"
            ]
          },
          "metadata": {
            "tags": []
          },
          "execution_count": 15
        }
      ]
    },
    {
      "cell_type": "code",
      "metadata": {
        "id": "ELUKBZqqO-FU",
        "colab_type": "code",
        "colab": {
          "base_uri": "https://localhost:8080/",
          "height": 34
        },
        "outputId": "7a5f7372-0825-4eba-d0be-fbe2780940ad"
      },
      "source": [
        "xtest.shape"
      ],
      "execution_count": null,
      "outputs": [
        {
          "output_type": "execute_result",
          "data": {
            "text/plain": [
              "(48083, 10)"
            ]
          },
          "metadata": {
            "tags": []
          },
          "execution_count": 16
        }
      ]
    },
    {
      "cell_type": "code",
      "metadata": {
        "id": "bu_AC5H7PBol",
        "colab_type": "code",
        "colab": {
          "base_uri": "https://localhost:8080/",
          "height": 68
        },
        "outputId": "c9595964-f03c-46d8-9244-9f362d4bb235"
      },
      "source": [
        "from sklearn import neighbors\n",
        "\n",
        "knn = neighbors.KNeighborsClassifier(n_neighbors=3)\n",
        "knn.fit(xtrain, ytrain)"
      ],
      "execution_count": null,
      "outputs": [
        {
          "output_type": "execute_result",
          "data": {
            "text/plain": [
              "KNeighborsClassifier(algorithm='auto', leaf_size=30, metric='minkowski',\n",
              "                     metric_params=None, n_jobs=None, n_neighbors=3, p=2,\n",
              "                     weights='uniform')"
            ]
          },
          "metadata": {
            "tags": []
          },
          "execution_count": 17
        }
      ]
    },
    {
      "cell_type": "code",
      "metadata": {
        "id": "uoTaBHa8PTO0",
        "colab_type": "code",
        "colab": {
          "base_uri": "https://localhost:8080/",
          "height": 34
        },
        "outputId": "d17841f1-6c32-44a5-c5fa-ebb1b752c227"
      },
      "source": [
        "accuracy =  knn.score(xtest, ytest)\n",
        "print('Accuracy: %f' % accuracy)"
      ],
      "execution_count": null,
      "outputs": [
        {
          "output_type": "stream",
          "text": [
            "Accuracy: 0.523345\n"
          ],
          "name": "stdout"
        }
      ]
    },
    {
      "cell_type": "markdown",
      "metadata": {
        "id": "JbclNF8s75b1",
        "colab_type": "text"
      },
      "source": [
        "## On cherche la valeur maximal de l'accuracy pour determiner le k Neighbors"
      ]
    },
    {
      "cell_type": "code",
      "metadata": {
        "id": "0vE66uR4PTwi",
        "colab_type": "code",
        "colab": {
          "base_uri": "https://localhost:8080/",
          "height": 532
        },
        "outputId": "452548fb-8807-4822-afd2-18276f3e72a1"
      },
      "source": [
        "import matplotlib.pyplot as plt\n",
        "acuracy = []\n",
        "for k in range(2,10):\n",
        "    knn = neighbors.KNeighborsClassifier(k)\n",
        "    acuracy.append(100*( knn.fit(xtrain, ytrain).score(xtest, ytest)))\n",
        "    #Acuracy\n",
        "plt.figure(figsize=(12, 8))\n",
        "plt.plot(range(2,10), acuracy, 'o-')\n",
        "plt.title('Précision (%) en fonction du nombre de K voisin',fontdict={'family': 'college', \n",
        "                    'color' : 'black',\n",
        "                    'weight': 'bold',\n",
        "                    'size': 16},\n",
        "          loc='right')\n",
        "plt.xlabel('Nombre de K Neighors')\n",
        "plt.ylabel('% accuracy')\n",
        "#ajouter légende \n",
        "plt.show()\n",
        "#on prend la plus haute"
      ],
      "execution_count": null,
      "outputs": [
        {
          "output_type": "stream",
          "text": [
            "findfont: Font family ['college'] not found. Falling back to DejaVu Sans.\n"
          ],
          "name": "stderr"
        },
        {
          "output_type": "display_data",
          "data": {
            "image/png": "[encoded data removed]",
            "text/plain": [
              "<Figure size 864x576 with 1 Axes>"
            ]
          },
          "metadata": {
            "tags": [],
            "needs_background": "light"
          }
        }
      ]
    },
    {
      "cell_type": "markdown",
      "metadata": {
        "id": "q05rXjWQypuM",
        "colab_type": "text"
      },
      "source": [
        "## on prend la plus haute soit un k=3"
      ]
    },
    {
      "cell_type": "code",
      "metadata": {
        "id": "hI08_GLNa-Xv",
        "colab_type": "code",
        "colab": {
          "base_uri": "https://localhost:8080/",
          "height": 119
        },
        "outputId": "17bdef3c-21ef-4662-a3e4-bb0e51bb3f4e"
      },
      "source": [
        "# On récupère le classifieur le plus performant\n",
        "knn = neighbors.KNeighborsClassifier(3)\n",
        "knn.fit(xtrain, ytrain)\n",
        "\n",
        "# On récupère les prédictions sur les données test\n",
        "predicted = knn.predict(data_found)\n",
        "data_found['nutriscore_grade']=predicted\n"
      ],
      "execution_count": null,
      "outputs": [
        {
          "output_type": "stream",
          "text": [
            "/usr/local/lib/python3.6/dist-packages/ipykernel_launcher.py:7: SettingWithCopyWarning: \n",
            "A value is trying to be set on a copy of a slice from a DataFrame.\n",
            "Try using .loc[row_indexer,col_indexer] = value instead\n",
            "\n",
            "See the caveats in the documentation: https://pandas.pydata.org/pandas-docs/stable/user_guide/indexing.html#returning-a-view-versus-a-copy\n",
            "  import sys\n"
          ],
          "name": "stderr"
        }
      ]
    },
    {
      "cell_type": "code",
      "metadata": {
        "id": "VKnwxt_1RkNj",
        "colab_type": "code",
        "colab": {
          "base_uri": "https://localhost:8080/",
          "height": 119
        },
        "outputId": "7d90741f-6809-48f3-9f1f-49ba85ac5f95"
      },
      "source": [
        "data['nutriscore_grade']=target\n"
      ],
      "execution_count": null,
      "outputs": [
        {
          "output_type": "stream",
          "text": [
            "/usr/local/lib/python3.6/dist-packages/ipykernel_launcher.py:1: SettingWithCopyWarning: \n",
            "A value is trying to be set on a copy of a slice from a DataFrame.\n",
            "Try using .loc[row_indexer,col_indexer] = value instead\n",
            "\n",
            "See the caveats in the documentation: https://pandas.pydata.org/pandas-docs/stable/user_guide/indexing.html#returning-a-view-versus-a-copy\n",
            "  \"\"\"Entry point for launching an IPython kernel.\n"
          ],
          "name": "stderr"
        }
      ]
    },
    {
      "cell_type": "code",
      "metadata": {
        "id": "EQFD92T0TCod",
        "colab_type": "code",
        "colab": {}
      },
      "source": [
        "data = data.append(data_found)"
      ],
      "execution_count": null,
      "outputs": []
    },
    {
      "cell_type": "code",
      "metadata": {
        "id": "gRnNXgAqQwEn",
        "colab_type": "code",
        "colab": {
          "base_uri": "https://localhost:8080/",
          "height": 34
        },
        "outputId": "88f126ad-4c19-41b9-97a4-a7c18d35308e"
      },
      "source": [
        "data.shape"
      ],
      "execution_count": null,
      "outputs": [
        {
          "output_type": "execute_result",
          "data": {
            "text/plain": [
              "(528953, 11)"
            ]
          },
          "metadata": {
            "tags": []
          },
          "execution_count": 26
        }
      ]
    },
    {
      "cell_type": "code",
      "metadata": {
        "id": "-cesxWbOQk3o",
        "colab_type": "code",
        "colab": {
          "base_uri": "https://localhost:8080/",
          "height": 674
        },
        "outputId": "b7c9f218-b960-452c-f378-b38562cba21f"
      },
      "source": [
        "import missingno as msno\n",
        "msno.matrix(data)"
      ],
      "execution_count": null,
      "outputs": [
        {
          "output_type": "stream",
          "text": [
            "/usr/local/lib/python3.6/dist-packages/statsmodels/tools/_testing.py:19: FutureWarning: pandas.util.testing is deprecated. Use the functions in the public API at pandas.testing instead.\n",
            "  import pandas.util.testing as tm\n"
          ],
          "name": "stderr"
        },
        {
          "output_type": "execute_result",
          "data": {
            "text/plain": [
              "<matplotlib.axes._subplots.AxesSubplot at 0x7f0a683df780>"
            ]
          },
          "metadata": {
            "tags": []
          },
          "execution_count": 27
        },
        {
          "output_type": "display_data",
          "data": {
            "image/png": "[encoded data removed]",
            "text/plain": [
              "<Figure size 1800x720 with 2 Axes>"
            ]
          },
          "metadata": {
            "tags": [],
            "needs_background": "light"
          }
        }
      ]
    },
    {
      "cell_type": "code",
      "metadata": {
        "id": "fJrFIaFPQqHt",
        "colab_type": "code",
        "colab": {}
      },
      "source": [
        "data.to_csv('/content/drive/My Drive/Colab Notebooks/fr.openfoodfacts.org.products.csv/knn.nutrigrade.fr.clean.lowfeatures.openfoodfacts.org.products.csv',sep='\\t', encoding='utf-8', header=True)"
      ],
      "execution_count": null,
      "outputs": []
    },
    {
      "cell_type": "markdown",
      "metadata": {
        "id": "aEzT8Mtzlp-K",
        "colab_type": "text"
      },
      "source": [
        "## Merge des données"
      ]
    },
    {
      "cell_type": "code",
      "metadata": {
        "id": "Gq3TBBt7mGnD",
        "colab_type": "code",
        "colab": {
          "base_uri": "https://localhost:8080/",
          "height": 620
        },
        "outputId": "8d013861-9e8a-41dc-c0e5-91b095145fad"
      },
      "source": [
        "df2 =pd.merge ( df, data , on=['code', 'energy_100g', 'fat_100g', 'saturated-fat_100g',\n",
        "       'carbohydrates_100g', 'sugars_100g', 'fiber_100g', 'proteins_100g',\n",
        "       'salt_100g', 'sodium_100g'])\n",
        "df2.drop(columns= ['nutriscore_grade_x'],inplace=True)\n",
        "df2 = df2.rename(columns={'nutriscore_grade_y': 'nutriscore_grade'})\n",
        "msno.matrix(df2)"
      ],
      "execution_count": null,
      "outputs": [
        {
          "output_type": "execute_result",
          "data": {
            "text/plain": [
              "<matplotlib.axes._subplots.AxesSubplot at 0x7f0a65779160>"
            ]
          },
          "metadata": {
            "tags": []
          },
          "execution_count": 29
        },
        {
          "output_type": "display_data",
          "data": {
            "image/png": "[encoded data removed]",
            "text/plain": [
              "<Figure size 1800x720 with 2 Axes>"
            ]
          },
          "metadata": {
            "tags": [],
            "needs_background": "light"
          }
        }
      ]
    },
    {
      "cell_type": "code",
      "metadata": {
        "id": "DORTdQivm5Tl",
        "colab_type": "code",
        "colab": {}
      },
      "source": [
        "df2.to_csv('/content/drive/My Drive/Colab Notebooks/fr.openfoodfacts.org.products.csv/mergeNG.knn.nutriscore.fr.clean.lowfeatures.openfoodfacts.org.products.csv',sep='\\t', encoding='utf-8', header=True)"
      ],
      "execution_count": null,
      "outputs": []
    },
    {
      "cell_type": "code",
      "metadata": {
        "id": "L37arxXKnGmu",
        "colab_type": "code",
        "colab": {
          "base_uri": "https://localhost:8080/",
          "height": 87
        },
        "outputId": "bcc75898-ef1d-4861-92f5-01cb721693d7"
      },
      "source": [
        "df2.columns"
      ],
      "execution_count": null,
      "outputs": [
        {
          "output_type": "execute_result",
          "data": {
            "text/plain": [
              "Index(['code', 'energy_100g', 'fat_100g', 'saturated-fat_100g',\n",
              "       'carbohydrates_100g', 'sugars_100g', 'fiber_100g', 'proteins_100g',\n",
              "       'salt_100g', 'sodium_100g', 'nutriscore_grade'],\n",
              "      dtype='object')"
            ]
          },
          "metadata": {
            "tags": []
          },
          "execution_count": 26
        }
      ]
    },
    {
      "cell_type": "code",
      "metadata": {
        "id": "TleWhFbep_L2",
        "colab_type": "code",
        "colab": {}
      },
      "source": [
        "dfNG = pd.read_csv('/content/drive/My Drive/Colab Notebooks/fr.openfoodfacts.org.products.csv/mergeNG.knn.nutriscore.fr.clean.lowfeatures.openfoodfacts.org.products.csv', sep='\\t', low_memory=False)\n"
      ],
      "execution_count": null,
      "outputs": []
    },
    {
      "cell_type": "code",
      "metadata": {
        "id": "c7nHqW9dqq0s",
        "colab_type": "code",
        "colab": {
          "base_uri": "https://localhost:8080/",
          "height": 87
        },
        "outputId": "81166e6b-a8ec-492d-92e7-9ced715f05b6"
      },
      "source": [
        "dfNG.columns"
      ],
      "execution_count": null,
      "outputs": [
        {
          "output_type": "execute_result",
          "data": {
            "text/plain": [
              "Index(['Unnamed: 0', 'code', 'energy_100g', 'fat_100g', 'saturated-fat_100g',\n",
              "       'carbohydrates_100g', 'sugars_100g', 'fiber_100g', 'proteins_100g',\n",
              "       'salt_100g', 'sodium_100g', 'nutriscore_grade'],\n",
              "      dtype='object')"
            ]
          },
          "metadata": {
            "tags": []
          },
          "execution_count": 28
        }
      ]
    },
    {
      "cell_type": "code",
      "metadata": {
        "id": "I4c_bEHXMDV-",
        "colab_type": "code",
        "colab": {
          "base_uri": "https://localhost:8080/",
          "height": 87
        },
        "outputId": "b2d57f18-a05d-408a-ffcf-8576d46e5efd"
      },
      "source": [
        "data.columns"
      ],
      "execution_count": null,
      "outputs": [
        {
          "output_type": "execute_result",
          "data": {
            "text/plain": [
              "Index(['code', 'energy_100g', 'fat_100g', 'saturated-fat_100g',\n",
              "       'carbohydrates_100g', 'sugars_100g', 'fiber_100g', 'proteins_100g',\n",
              "       'salt_100g', 'sodium_100g'],\n",
              "      dtype='object')"
            ]
          },
          "metadata": {
            "tags": []
          },
          "execution_count": 22
        }
      ]
    },
    {
      "cell_type": "code",
      "metadata": {
        "id": "1IzuzP31LvVh",
        "colab_type": "code",
        "colab": {}
      },
      "source": [
        ""
      ],
      "execution_count": null,
      "outputs": []
    }
  ]
}