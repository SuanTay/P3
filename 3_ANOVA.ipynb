{
  "nbformat": 4,
  "nbformat_minor": 0,
  "metadata": {
    "colab": {
      "name": "3.ANOVA.ipynb",
      "provenance": [],
      "toc_visible": true,
      "mount_file_id": "1XRifbdDEPyBc6fDD7JNczrWWVmPoGyKG",
      "authorship_tag": "ABX9TyMJ8FoaqWukEl/UjTAd8vC4",
      "include_colab_link": true
    },
    "kernelspec": {
      "name": "python3",
      "display_name": "Python 3"
    }
  },
  "cells": [
    {
      "cell_type": "markdown",
      "metadata": {
        "id": "view-in-github",
        "colab_type": "text"
      },
      "source": [
        "<a href=\"https://colab.research.google.com/github/SuanTay/P3/blob/master/3_ANOVA.ipynb\" target=\"_parent\"><img src=\"https://colab.research.google.com/assets/colab-badge.svg\" alt=\"Open In Colab\"/></a>"
      ]
    },
    {
      "cell_type": "code",
      "metadata": {
        "id": "BrfYtAW-Mb10",
        "colab_type": "code",
        "colab": {
          "base_uri": "https://localhost:8080/",
          "height": 71
        },
        "outputId": "f5f8219f-6585-405b-afb0-34b45a8e225a"
      },
      "source": [
        "import pandas as pd\n",
        "from pandas.plotting import scatter_matrix\n",
        "import pandas.util.testing as tm\n",
        "import numpy as np\n",
        "import matplotlib.pyplot as plt\n",
        "import seaborn as sns\n",
        "import missingno as msno"
      ],
      "execution_count": null,
      "outputs": [
        {
          "output_type": "stream",
          "text": [
            "/usr/local/lib/python3.6/dist-packages/ipykernel_launcher.py:3: FutureWarning: pandas.util.testing is deprecated. Use the functions in the public API at pandas.testing instead.\n",
            "  This is separate from the ipykernel package so we can avoid doing imports until\n"
          ],
          "name": "stderr"
        }
      ]
    },
    {
      "cell_type": "markdown",
      "metadata": {
        "id": "AcjwOhr9LjsJ",
        "colab_type": "text"
      },
      "source": [
        "Analyse de la variance, en anglais ANalysis Of VAriance (ANOVA).\n",
        "un variable quantitative et un variable qualitative."
      ]
    },
    {
      "cell_type": "code",
      "metadata": {
        "id": "O8XbJyf8MYh1",
        "colab_type": "code",
        "colab": {
          "base_uri": "https://localhost:8080/",
          "height": 34
        },
        "outputId": "519814bb-d25b-4fdc-c4c4-8acd89d0dd43"
      },
      "source": [
        "data = pd.read_csv('/content/drive/My Drive/Colab Notebooks/fr.openfoodfacts.org.products.csv/openfoodfacts.csv',sep='\\t',  low_memory=False)\n",
        "data.shape"
      ],
      "execution_count": null,
      "outputs": [
        {
          "output_type": "execute_result",
          "data": {
            "text/plain": [
              "(528952, 16)"
            ]
          },
          "metadata": {
            "tags": []
          },
          "execution_count": 2
        }
      ]
    },
    {
      "cell_type": "markdown",
      "metadata": {
        "id": "ZE6ESA1UR9wG",
        "colab_type": "text"
      },
      "source": [
        "## Fonction pour calculer ANOVA"
      ]
    },
    {
      "cell_type": "code",
      "metadata": {
        "id": "ch2mOTA7LfHw",
        "colab_type": "code",
        "cellView": "both",
        "colab": {}
      },
      "source": [
        "def eta_squared(x,y):\n",
        "    moyenne_y = y.mean()\n",
        "    classes = []\n",
        "    for classe in x.unique():\n",
        "        yi_classe = y[x==classe]\n",
        "        classes.append({'ni': len(yi_classe),\n",
        "                        'moyenne_classe': yi_classe.mean()})\n",
        "    SCT = sum([(yj-moyenne_y)**2 for yj in y])\n",
        "    SCE = sum([c['ni']*(c['moyenne_classe']-moyenne_y)**2 for c in classes])\n",
        "    return SCE/SCT"
      ],
      "execution_count": null,
      "outputs": []
    },
    {
      "cell_type": "markdown",
      "metadata": {
        "id": "IS8KmWc8SKiF",
        "colab_type": "text"
      },
      "source": [
        "## Calculons l'ANOVA pour le nutri-grade et les autres colonnes "
      ]
    },
    {
      "cell_type": "code",
      "metadata": {
        "id": "GWhDnJCwrRgA",
        "colab_type": "code",
        "colab": {}
      },
      "source": [
        "X = \"nutriscore_grade\" # qualitative\n",
        "for Y in data.columns[2:11]:\n",
        "  i= eta_squared(data[X],data[Y])          \n",
        "  if not pd.isna(i):\n",
        "    print ( 'eta_squared(' + X + ', ' + Y +') =',i ) "
      ],
      "execution_count": null,
      "outputs": []
    },
    {
      "cell_type": "markdown",
      "metadata": {
        "id": "lSOOQNDxSbyp",
        "colab_type": "text"
      },
      "source": [
        "## Calculons l'ANOVA entre les differentes colonnes"
      ]
    },
    {
      "cell_type": "code",
      "metadata": {
        "id": "mDIW0gv_K6c8",
        "colab_type": "code",
        "colab": {}
      },
      "source": [
        "df1=df_eval=data[['energy_100g', 'fat_100g', 'saturated-fat_100g',\n",
        "       'carbohydrates_100g', 'sugars_100g', 'fiber_100g', 'proteins_100g',\n",
        "       'salt_100g', 'sodium_100g',  'nutriscore_score']]\n",
        "\n",
        "for column in df_eval:\n",
        "  col=column\n",
        "  for column in df1:\n",
        "    if col != column:\n",
        "      print(\"\")\n",
        "      print('#-- ',column, ' / ', col, '--#')\n",
        "      i= eta_squared(data[column],data[col])          \n",
        "      if not pd.isna(i):\n",
        "        print ( 'eta_squared(' + column + ', ' + col +') =',i ) \n"
      ],
      "execution_count": null,
      "outputs": []
    },
    {
      "cell_type": "markdown",
      "metadata": {
        "id": "ezUKfeHgKscF",
        "colab_type": "text"
      },
      "source": [
        "Graphique de correlations :\n",
        "energy_100g  / proteins_100g\n",
        "\n",
        "* energy_100g / fat_100g\n",
        "* energy_100g  /  sugars_100g\n",
        "* sodium_100g  /  salt_100g\n",
        "* fat_100g  /  saturated-fat_100g\n"
      ]
    },
    {
      "cell_type": "code",
      "metadata": {
        "id": "WDEJ8QzzlcUB",
        "colab_type": "code",
        "colab": {}
      },
      "source": [
        "fig, axs = plt.subplots(2, 2, figsize=(10,10),dpi=50, num=1)\n",
        "\n",
        "\n",
        "\n",
        "\n",
        "axs[0, 0].plot( data.energy_100g,  data.fat_100g )\n",
        "axs[0, 0].set_title(\"Correlation entre energy_100g et fat_100g\")\n",
        "axs[0, 1].plot(  data.energy_100g,  data.sugars_100g, 'tab:orange' )\n",
        "axs[0, 1].set_title(\"Correlation entre energy_100g et sugars_100g\")\n",
        "axs[1, 0].plot(  data.sodium_100g,  data.salt_100g, 'tab:green')\n",
        "axs[1, 0].set_title(\"Correlation entre sodium_100g et salt_100g\")\n",
        "axs[1, 1].plot(  data.fat_100g,  data['saturated-fat_100g'], 'tab:red' )\n",
        "axs[1, 1].set_title(\"Correlation entre fat_100g et saturated-fat_100g\")"
      ],
      "execution_count": null,
      "outputs": []
    },
    {
      "cell_type": "code",
      "metadata": {
        "id": "sZ2xIdK_nHUd",
        "colab_type": "code",
        "colab": {}
      },
      "source": [
        ""
      ],
      "execution_count": null,
      "outputs": []
    }
  ]
}