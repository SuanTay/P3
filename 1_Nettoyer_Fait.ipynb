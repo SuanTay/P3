{
  "nbformat": 4,
  "nbformat_minor": 0,
  "metadata": {
    "colab": {
      "name": "1.Nettoyer_Fait.ipynb",
      "provenance": [],
      "mount_file_id": "1sbSi-ZqjKNcaZ5AH4h6pamifsKL-h1dF",
      "authorship_tag": "ABX9TyNIpkrL6AzZ5Wf5QZZLZkdw",
      "include_colab_link": true
    },
    "kernelspec": {
      "name": "python3",
      "display_name": "Python 3"
    }
  },
  "cells": [
    {
      "cell_type": "markdown",
      "metadata": {
        "id": "view-in-github",
        "colab_type": "text"
      },
      "source": [
        "<a href=\"https://colab.research.google.com/github/SuanTay/P3/blob/master/1_Nettoyer_Fait.ipynb\" target=\"_parent\"><img src=\"https://colab.research.google.com/assets/colab-badge.svg\" alt=\"Open In Colab\"/></a>"
      ]
    },
    {
      "cell_type": "markdown",
      "metadata": {
        "id": "mntLASvHEIz_",
        "colab_type": "text"
      },
      "source": [
        "# Nettoyer le jeu de données"
      ]
    },
    {
      "cell_type": "code",
      "metadata": {
        "id": "-tLxV0mPxcrI",
        "colab_type": "code",
        "colab": {
          "base_uri": "https://localhost:8080/",
          "height": 71
        },
        "outputId": "4a877f10-2651-4f92-9115-2b79a038c6fc"
      },
      "source": [
        "import pandas as pd\n",
        "import pandas.util.testing as tm\n",
        "import seaborn as sns\n",
        "import matplotlib.pyplot as plt\n",
        "import numpy as np\n",
        "import missingno as msno"
      ],
      "execution_count": null,
      "outputs": [
        {
          "output_type": "stream",
          "text": [
            "/usr/local/lib/python3.6/dist-packages/ipykernel_launcher.py:2: FutureWarning: pandas.util.testing is deprecated. Use the functions in the public API at pandas.testing instead.\n",
            "  \n"
          ],
          "name": "stderr"
        }
      ]
    },
    {
      "cell_type": "code",
      "metadata": {
        "id": "XNfIHJtaetGx",
        "colab_type": "code",
        "colab": {}
      },
      "source": [
        "data = pd.read_csv('/content/drive/My Drive/Colab Notebooks/fr.openfoodfacts.org.products.csv/fr.openfoodfacts.org.products.csv',sep='\\t',  low_memory=False)"
      ],
      "execution_count": null,
      "outputs": []
    },
    {
      "cell_type": "markdown",
      "metadata": {
        "id": "XsuxVuUlZ85r",
        "colab_type": "text"
      },
      "source": [
        "## Quantifions le nombre de ligne et de colonne\n"
      ]
    },
    {
      "cell_type": "code",
      "metadata": {
        "id": "cvREqWzQyxat",
        "colab_type": "code",
        "colab": {
          "base_uri": "https://localhost:8080/",
          "height": 34
        },
        "outputId": "a9d0483b-c768-4b79-c902-7b3844ee9da5"
      },
      "source": [
        "print(\"Les données sont composées de  {} enregistrements et {} colonnes.\".format(*data.shape))"
      ],
      "execution_count": null,
      "outputs": [
        {
          "output_type": "stream",
          "text": [
            "Les données sont composées de  1424453 enregistrements et 181 colonnes.\n"
          ],
          "name": "stdout"
        }
      ]
    },
    {
      "cell_type": "markdown",
      "metadata": {
        "id": "bplUp8rWfLQ3",
        "colab_type": "text"
      },
      "source": [
        "Pourcentage des données nul pour chaque colonne."
      ]
    },
    {
      "cell_type": "code",
      "metadata": {
        "id": "VphRcROvfivS",
        "colab_type": "code",
        "colab": {}
      },
      "source": [
        "donull=data.isnull().sum()/len(data)*100"
      ],
      "execution_count": null,
      "outputs": []
    },
    {
      "cell_type": "code",
      "metadata": {
        "id": "xDVEuHEmGwuD",
        "colab_type": "code",
        "colab": {
          "base_uri": "https://localhost:8080/",
          "height": 221
        },
        "outputId": "4d71da3c-3e1c-46e0-ca20-caa63637dd68"
      },
      "source": [
        "donull[donull>10]"
      ],
      "execution_count": null,
      "outputs": [
        {
          "output_type": "execute_result",
          "data": {
            "text/plain": [
              "generic_name          92.733421\n",
              "quantity              71.605662\n",
              "packaging             84.095298\n",
              "packaging_tags        84.096000\n",
              "brands                44.644295\n",
              "                        ...    \n",
              "choline_100g          99.997332\n",
              "phylloquinone_100g    99.879884\n",
              "beta-glucan_100g      99.998315\n",
              "inositol_100g         99.997051\n",
              "carnitine_100g        99.998807\n",
              "Length: 165, dtype: float64"
            ]
          },
          "metadata": {
            "tags": []
          },
          "execution_count": 5
        }
      ]
    },
    {
      "cell_type": "markdown",
      "metadata": {
        "id": "0r9yLpm64FuT",
        "colab_type": "text"
      },
      "source": [
        "# Supprimons les colonnes non necessaires"
      ]
    },
    {
      "cell_type": "code",
      "metadata": {
        "id": "aNMZQc9i21Wg",
        "colab_type": "code",
        "colab": {}
      },
      "source": [
        "data.drop(columns=['creator'\n",
        ",'created_t'\n",
        ",'created_datetime'\n",
        ",'last_modified_t'\n",
        ",'last_modified_datetime'\n",
        ",'generic_name'\n",
        ",'quantity'\n",
        ",'packaging'\n",
        ",'packaging_tags'\n",
        ",'origins'\n",
        ",'origins_tags'\n",
        ",'manufacturing_places'\n",
        ",'manufacturing_places_tags'\n",
        ",'labels'\n",
        ",'labels_tags'\n",
        ",'labels_fr'\n",
        ",'emb_codes'\n",
        ",'emb_codes_tags'\n",
        ",'first_packaging_code_geo'\n",
        ",'cities'\n",
        ",'cities_tags'\n",
        ",'purchase_places'\n",
        ",'stores'\n",
        ",'countries'\n",
        ",'countries_tags'\n",
        ",'ingredients_text'\n",
        ",'allergens'\n",
        ",'allergens_fr'\n",
        ",'traces'\n",
        ",'traces_tags'\n",
        ",'traces_fr'\n",
        ",'serving_size'\n",
        ",'serving_quantity'\n",
        ",'no_nutriments'\n",
        ",'additives_n'\n",
        ",'additives'\n",
        ",'additives_tags'\n",
        ",'additives_fr'\n",
        ",'ingredients_from_palm_oil_n'\n",
        ",'ingredients_from_palm_oil'\n",
        ",'ingredients_from_palm_oil_tags'\n",
        ",'ingredients_that_may_be_from_palm_oil_n'\n",
        ",'ingredients_that_may_be_from_palm_oil'\n",
        ",'ingredients_that_may_be_from_palm_oil_tags'\n",
        ",'pnns_groups_1'\n",
        ",'states'\n",
        ",'states_tags'\n",
        ",'states_fr'\n",
        ",'brand_owner'\n",
        ",'main_category'\n",
        ",'main_category_fr'\n",
        ",'image_url'\n",
        ",'image_small_url'\n",
        ",'image_ingredients_url'\n",
        ",'image_ingredients_small_url'\n",
        ",'image_nutrition_url'\n",
        ",'image_nutrition_small_url'\n",
        ",'energy-kj_100g'\n",
        ",'energy-from-fat_100g'\n",
        ",'butyric-acid_100g'\n",
        ",'caproic-acid_100g'\n",
        ",'caprylic-acid_100g'\n",
        ",'capric-acid_100g'\n",
        ",'lauric-acid_100g'\n",
        ",'myristic-acid_100g'\n",
        ",'palmitic-acid_100g'\n",
        ",'stearic-acid_100g'\n",
        ",'arachidic-acid_100g'\n",
        ",'behenic-acid_100g'\n",
        ",'lignoceric-acid_100g'\n",
        ",'cerotic-acid_100g'\n",
        ",'montanic-acid_100g'\n",
        ",'melissic-acid_100g'\n",
        ",'monounsaturated-fat_100g'\n",
        ",'polyunsaturated-fat_100g'\n",
        ",'omega-3-fat_100g'\n",
        ",'alpha-linolenic-acid_100g'\n",
        ",'eicosapentaenoic-acid_100g'\n",
        ",'docosahexaenoic-acid_100g'\n",
        ",'omega-6-fat_100g'\n",
        ",'linoleic-acid_100g'\n",
        ",'arachidonic-acid_100g'\n",
        ",'gamma-linolenic-acid_100g'\n",
        ",'dihomo-gamma-linolenic-acid_100g'\n",
        ",'omega-9-fat_100g'\n",
        ",'oleic-acid_100g'\n",
        ",'elaidic-acid_100g'\n",
        ",'gondoic-acid_100g'\n",
        ",'mead-acid_100g'\n",
        ",'erucic-acid_100g'\n",
        ",'nervonic-acid_100g'\n",
        ",'trans-fat_100g'\n",
        ",'cholesterol_100g'\n",
        ",'sucrose_100g'\n",
        ",'glucose_100g'\n",
        ",'fructose_100g'\n",
        ",'lactose_100g'\n",
        ",'maltose_100g'\n",
        ",'maltodextrins_100g'\n",
        ",'starch_100g'\n",
        ",'polyols_100g'\n",
        ",'soluble-fiber_100g'\n",
        ",'insoluble-fiber_100g'\n",
        ",'casein_100g'\n",
        ",'serum-proteins_100g'\n",
        ",'nucleotides_100g'\n",
        ",'alcohol_100g'\n",
        ",'vitamin-a_100g'\n",
        ",'beta-carotene_100g'\n",
        ",'vitamin-d_100g'\n",
        ",'vitamin-e_100g'\n",
        ",'vitamin-k_100g'\n",
        ",'vitamin-c_100g'\n",
        ",'vitamin-b1_100g'\n",
        ",'vitamin-b2_100g'\n",
        ",'vitamin-pp_100g'\n",
        ",'vitamin-b6_100g'\n",
        ",'vitamin-b9_100g'\n",
        ",'folates_100g'\n",
        ",'vitamin-b12_100g'\n",
        ",'biotin_100g'\n",
        ",'pantothenic-acid_100g'\n",
        ",'silica_100g'\n",
        ",'bicarbonate_100g'\n",
        ",'potassium_100g'\n",
        ",'chloride_100g'\n",
        ",'calcium_100g'\n",
        ",'phosphorus_100g'\n",
        ",'iron_100g'\n",
        ",'magnesium_100g'\n",
        ",'zinc_100g'\n",
        ",'copper_100g'\n",
        ",'manganese_100g'\n",
        ",'fluoride_100g'\n",
        ",'selenium_100g'\n",
        ",'chromium_100g'\n",
        ",'molybdenum_100g'\n",
        ",'iodine_100g'\n",
        ",'caffeine_100g'\n",
        ",'taurine_100g'\n",
        ",'ph_100g'\n",
        ",'fruits-vegetables-nuts_100g'\n",
        ",'fruits-vegetables-nuts-dried_100g'\n",
        ",'fruits-vegetables-nuts-estimate_100g'\n",
        ",'collagen-meat-protein-ratio_100g'\n",
        ",'cocoa_100g'\n",
        ",'chlorophyl_100g'\n",
        ",'carbon-footprint_100g'\n",
        ",'carbon-footprint-from-meat-or-fish_100g'\n",
        ",'nutrition-score-uk_100g'\n",
        ",'glycemic-index_100g'\n",
        ",'water-hardness_100g'\n",
        ",'choline_100g'\n",
        ",'phylloquinone_100g'\n",
        ",'beta-glucan_100g'\n",
        ",'inositol_100g'\n",
        ",'carnitine_100g'\n",
        ",'energy-kcal_100g' \n",
        ",'categories'\n",
        ",'categories_tags'\n",
        ",'categories_fr'\n",
        ",'brands_tags'\n",
        ",'brands'\n",
        ",'nutrition-score-fr_100g'\n",
        ",'nova_group'\n",
        "],inplace=True)\n"
      ],
      "execution_count": null,
      "outputs": []
    },
    {
      "cell_type": "code",
      "metadata": {
        "id": "WlWyxm3vtkuV",
        "colab_type": "code",
        "colab": {
          "base_uri": "https://localhost:8080/",
          "height": 34
        },
        "outputId": "7cf17363-a391-41b0-d698-14ce8f36729b"
      },
      "source": [
        "print(\"Les données sont composées de {} enregistrements et {} colonnes. Après suppression des colonnes.\".format(*data.shape))"
      ],
      "execution_count": null,
      "outputs": [
        {
          "output_type": "stream",
          "text": [
            "Les données sont composées de 1424453 enregistrements et 16 colonnes. Après suppression des colonnes.\n"
          ],
          "name": "stdout"
        }
      ]
    },
    {
      "cell_type": "markdown",
      "metadata": {
        "id": "5Y0e1k4O4ZyS",
        "colab_type": "text"
      },
      "source": [
        "## Pour une future application nous allons privilégier les données FR"
      ]
    },
    {
      "cell_type": "markdown",
      "metadata": {
        "id": "3WIdSAovqJNb",
        "colab_type": "text"
      },
      "source": [
        "Supprimer les lignes de quantité vides"
      ]
    },
    {
      "cell_type": "code",
      "metadata": {
        "id": "etUgT-QcDHE6",
        "colab_type": "code",
        "colab": {}
      },
      "source": [
        "data.dropna(subset=['countries_fr'],axis=0, inplace=True)"
      ],
      "execution_count": null,
      "outputs": []
    },
    {
      "cell_type": "code",
      "metadata": {
        "id": "QpMlfyzKhmfw",
        "colab_type": "code",
        "colab": {
          "base_uri": "https://localhost:8080/",
          "height": 85
        },
        "outputId": "5bf5deb2-8570-4587-a843-0c5422e98ae5"
      },
      "source": [
        "print(\"Les données sont composées de  {} enregistrements et {} colonnes. \\nNous conservons les données de france, soit de ces partie su monde : \\nFrance, Guadeloupe, Martinique, Guyane, La Réunion, Mayotte, Saint-Pierre-et-Miquelon, Saint-Martin,\\nWallis-et-Futuna, Polynésie française, Nouvelle-Calédonie ,Monaco ,La Réunion, Nouvelle-Calédonie. \".format(*data.shape))"
      ],
      "execution_count": null,
      "outputs": [
        {
          "output_type": "stream",
          "text": [
            "Les données sont composées de  1422207 enregistrements et 16 colonnes. \n",
            "Nous conservons les données de france, soit de ces partie su monde : \n",
            "France, Guadeloupe, Martinique, Guyane, La Réunion, Mayotte, Saint-Pierre-et-Miquelon, Saint-Martin,\n",
            "Wallis-et-Futuna, Polynésie française, Nouvelle-Calédonie ,Monaco ,La Réunion, Nouvelle-Calédonie. \n"
          ],
          "name": "stdout"
        }
      ]
    },
    {
      "cell_type": "code",
      "metadata": {
        "id": "SaTIRVPQ4ckO",
        "colab_type": "code",
        "colab": {
          "base_uri": "https://localhost:8080/",
          "height": 119
        },
        "outputId": "4cf6fa85-e799-49fd-cc36-cdf9521064b7"
      },
      "source": [
        "territoire_france=['France','Guadeloupe','Martinique','Guyane','La Réunion','Mayotte','Saint-Pierre-et-Miquelon','Saint-Martin',\n",
        "                    'Wallis-et-Futuna','Polynésie française','Nouvelle-Calédonie','Monaco','La Réunion','Nouvelle-Calédonie']\n",
        "\n",
        "print(\"Les données sont composées de  {} enregistrements et {} colonnes. \\nNous conservons les données de france, soit de ces partie su monde : \\nFrance, Guadeloupe, Martinique, Guyane, La Réunion, Mayotte, Saint-Pierre-et-Miquelon, Saint-Martin,\\nWallis-et-Futuna, Polynésie française, Nouvelle-Calédonie ,Monaco ,La Réunion, Nouvelle-Calédonie. \".format(*data.shape))\n",
        "df=pd.DataFrame()\n",
        "for index, row in pd.DataFrame(data['countries_fr'].unique()).iterrows():\n",
        "    #print('row ',row[0])\n",
        "    for a in row[0].split(sep=\",\"):\n",
        "       for  b in territoire_france:\n",
        "        if a==b:\n",
        "            df = pd.concat([df , data[data['countries_fr']==row[0]]], ignore_index=True)\n",
        "print(\"Les données sont composées de  {} enregistrements et {} colonnes. Certaines données peuvent être dupliquées.\".format(*data.shape))\n",
        "df.drop_duplicates(inplace=True)\n",
        "print(\"Les données sont composées de  {} enregistrements et {} colonnes. Plus de données dupliquées.\".format(*data.shape))\n",
        "data=df\n"
      ],
      "execution_count": null,
      "outputs": [
        {
          "output_type": "stream",
          "text": [
            "Les données sont composées de  1422207 enregistrements et 16 colonnes. \n",
            "Nous conservons les données de france, soit de ces partie su monde : \n",
            "France, Guadeloupe, Martinique, Guyane, La Réunion, Mayotte, Saint-Pierre-et-Miquelon, Saint-Martin,\n",
            "Wallis-et-Futuna, Polynésie française, Nouvelle-Calédonie ,Monaco ,La Réunion, Nouvelle-Calédonie. \n",
            "Les données sont composées de  1422207 enregistrements et 16 colonnes. Certaines données peuvent être dupliquées.\n",
            "Les données sont composées de  1422207 enregistrements et 16 colonnes. Plus de données dupliquées.\n"
          ],
          "name": "stdout"
        }
      ]
    },
    {
      "cell_type": "markdown",
      "metadata": {
        "id": "DCWKee-Yf6QG",
        "colab_type": "text"
      },
      "source": [
        "## Nettoyer les lignes vides"
      ]
    },
    {
      "cell_type": "code",
      "metadata": {
        "id": "Z-EicY7jwdbh",
        "colab_type": "code",
        "colab": {}
      },
      "source": [
        "data.dropna(subset=['sodium_100g','salt_100g','proteins_100g','fiber_100g','sugars_100g','carbohydrates_100g','saturated-fat_100g','fat_100g','energy_100g'],how='all', inplace=True)\n"
      ],
      "execution_count": null,
      "outputs": []
    },
    {
      "cell_type": "code",
      "metadata": {
        "id": "5vczskEM0Aic",
        "colab_type": "code",
        "colab": {
          "base_uri": "https://localhost:8080/",
          "height": 34
        },
        "outputId": "dad4eadc-032a-4308-df70-3fd9d8171ad5"
      },
      "source": [
        "print(\"Les données sont composées de  {} enregistrements et {} colonnes après nettoyage des lignes vides\".format(*data.shape))"
      ],
      "execution_count": null,
      "outputs": [
        {
          "output_type": "stream",
          "text": [
            "Les données sont composées de  565695 enregistrements et 16 colonnes après nettoyage des lignes vides\n"
          ],
          "name": "stdout"
        }
      ]
    },
    {
      "cell_type": "markdown",
      "metadata": {
        "id": "RTDUzyahvC0H",
        "colab_type": "text"
      },
      "source": [
        "### Nettoyage des valeurs aberrantes d'energie\n",
        "La valeur maximal est de 3772 kj, pour une huile de noix pour 100g et 100% de lipide.\n"
      ]
    },
    {
      "cell_type": "code",
      "metadata": {
        "id": "wptP1R4pu71y",
        "colab_type": "code",
        "colab": {}
      },
      "source": [
        "data=data[data.energy_100g<=3772]"
      ],
      "execution_count": null,
      "outputs": []
    },
    {
      "cell_type": "code",
      "metadata": {
        "id": "5jThEDhV8O1v",
        "colab_type": "code",
        "colab": {
          "base_uri": "https://localhost:8080/",
          "height": 34
        },
        "outputId": "e69e1c53-990f-4d8b-d35c-772b9bb8b939"
      },
      "source": [
        "print(\"Les données sont composées de  {} enregistrements et {} colonnes après nettoyage des valeurs aberrantes d'energie\".format(*data.shape))"
      ],
      "execution_count": null,
      "outputs": [
        {
          "output_type": "stream",
          "text": [
            "Les données sont composées de  556545 enregistrements et 16 colonnes après nettoyage des valeurs aberrantes d'energie\n"
          ],
          "name": "stdout"
        }
      ]
    },
    {
      "cell_type": "markdown",
      "metadata": {
        "id": "oH3SBUfOf6hI",
        "colab_type": "text"
      },
      "source": [
        "## Nettoyons les valeurs aberrante pour les colonnes 100g\n",
        "\n",
        "* Suppression des données dont les valeurs sont inférieures ou égal à 0.\n",
        "* Suppression des données dont les valeurs sont supérieurs à 100.\n"
      ]
    },
    {
      "cell_type": "code",
      "metadata": {
        "id": "MVyjzUp1tnHl",
        "colab_type": "code",
        "colab": {
          "base_uri": "https://localhost:8080/",
          "height": 255
        },
        "outputId": "91c606aa-34da-4ef5-a949-60c17da3c751"
      },
      "source": [
        "import numpy as np\n",
        "\n",
        "centg =['fat_100g', 'saturated-fat_100g', 'carbohydrates_100g',\n",
        "       'sugars_100g', 'fiber_100g', 'proteins_100g', 'salt_100g',\n",
        "       'sodium_100g']\n",
        "\n",
        "dd=pd.DataFrame()\n",
        "# liste de colonne que ce tremine par _100g\n",
        "for i in centg:\n",
        "  print(i)\n",
        "  dd=data[data[i].isnull()==False]\n",
        "  # suppression des valeurs sup ou egal  à  100 \n",
        "  data.drop(dd.loc[dd[i]>100].index, inplace=True)\n",
        "  # suppression des valeurs negatives\n",
        "  data.drop(dd.loc[dd[i]<0].index,inplace=True)\n",
        "print(\"Les données sont composées de  {} enregistrements et {} colonnes après nettoyage des valeurs aberrantes.\".format(*data.shape))"
      ],
      "execution_count": null,
      "outputs": [
        {
          "output_type": "stream",
          "text": [
            "fat_100g\n"
          ],
          "name": "stdout"
        },
        {
          "output_type": "stream",
          "text": [
            "/usr/local/lib/python3.6/dist-packages/pandas/core/frame.py:3997: SettingWithCopyWarning: \n",
            "A value is trying to be set on a copy of a slice from a DataFrame\n",
            "\n",
            "See the caveats in the documentation: https://pandas.pydata.org/pandas-docs/stable/user_guide/indexing.html#returning-a-view-versus-a-copy\n",
            "  errors=errors,\n"
          ],
          "name": "stderr"
        },
        {
          "output_type": "stream",
          "text": [
            "saturated-fat_100g\n",
            "carbohydrates_100g\n",
            "sugars_100g\n",
            "fiber_100g\n",
            "proteins_100g\n",
            "salt_100g\n",
            "sodium_100g\n",
            "Les données sont composées de  556514 enregistrements et 16 colonnes après nettoyage des valeurs aberrantes.\n"
          ],
          "name": "stdout"
        }
      ]
    },
    {
      "cell_type": "markdown",
      "metadata": {
        "id": "YDCv30HuojRJ",
        "colab_type": "text"
      },
      "source": [
        "## On choisi de remplir les valeurs null de fiber_100g par zero"
      ]
    },
    {
      "cell_type": "code",
      "metadata": {
        "id": "OQo8g404olTb",
        "colab_type": "code",
        "colab": {
          "base_uri": "https://localhost:8080/",
          "height": 102
        },
        "outputId": "191886c0-b8ef-4453-869b-c3f968d8a0f5"
      },
      "source": [
        "data.fiber_100g.fillna(0, inplace=True)"
      ],
      "execution_count": null,
      "outputs": [
        {
          "output_type": "stream",
          "text": [
            "/usr/local/lib/python3.6/dist-packages/pandas/core/generic.py:6245: SettingWithCopyWarning: \n",
            "A value is trying to be set on a copy of a slice from a DataFrame\n",
            "\n",
            "See the caveats in the documentation: https://pandas.pydata.org/pandas-docs/stable/user_guide/indexing.html#returning-a-view-versus-a-copy\n",
            "  self._update_inplace(new_data)\n"
          ],
          "name": "stderr"
        }
      ]
    },
    {
      "cell_type": "markdown",
      "metadata": {
        "id": "hNRkisxWpGaV",
        "colab_type": "text"
      },
      "source": [
        "## Suppression des produits s'il n'ont pas d'information nutritionnelles"
      ]
    },
    {
      "cell_type": "code",
      "metadata": {
        "id": "TnDyS8ilpKVD",
        "colab_type": "code",
        "colab": {
          "base_uri": "https://localhost:8080/",
          "height": 102
        },
        "outputId": "2d6f0e90-ddd4-4961-a93e-80943ff644b4"
      },
      "source": [
        "info_nutri=[ 'fat_100g', 'saturated-fat_100g',\n",
        "       'carbohydrates_100g', 'sugars_100g',  'proteins_100g',\n",
        "       'salt_100g', 'sodium_100g']\n",
        "data.dropna(subset=info_nutri,axis=0, inplace=True)"
      ],
      "execution_count": null,
      "outputs": [
        {
          "output_type": "stream",
          "text": [
            "/usr/local/lib/python3.6/dist-packages/ipykernel_launcher.py:4: SettingWithCopyWarning: \n",
            "A value is trying to be set on a copy of a slice from a DataFrame\n",
            "\n",
            "See the caveats in the documentation: https://pandas.pydata.org/pandas-docs/stable/user_guide/indexing.html#returning-a-view-versus-a-copy\n",
            "  after removing the cwd from sys.path.\n"
          ],
          "name": "stderr"
        }
      ]
    },
    {
      "cell_type": "markdown",
      "metadata": {
        "id": "1LOv07g9lUbp",
        "colab_type": "text"
      },
      "source": [
        "## Visualisons les valeurs manquantes"
      ]
    },
    {
      "cell_type": "code",
      "metadata": {
        "id": "a-rNEZrYY1YJ",
        "colab_type": "code",
        "colab": {
          "base_uri": "https://localhost:8080/",
          "height": 686
        },
        "outputId": "e29d6244-9e50-442b-8bd1-ba8a27408a84"
      },
      "source": [
        "msno.bar(data)"
      ],
      "execution_count": null,
      "outputs": [
        {
          "output_type": "execute_result",
          "data": {
            "text/plain": [
              "<matplotlib.axes._subplots.AxesSubplot at 0x7f82c06607b8>"
            ]
          },
          "metadata": {
            "tags": []
          },
          "execution_count": 18
        },
        {
          "output_type": "display_data",
          "data": {
            "image/png": "[encoded data removed]",
            "text/plain": [
              "<Figure size 1728x720 with 3 Axes>"
            ]
          },
          "metadata": {
            "tags": [],
            "needs_background": "light"
          }
        }
      ]
    },
    {
      "cell_type": "code",
      "metadata": {
        "id": "ZzCGxqlR7MSl",
        "colab_type": "code",
        "colab": {
          "base_uri": "https://localhost:8080/",
          "height": 102
        },
        "outputId": "a3ad0906-5306-457e-c4b1-3ea1d3c06e3d"
      },
      "source": [
        " \n",
        "info_nutri=[ 'fat_100g', 'saturated-fat_100g',\n",
        "       'carbohydrates_100g', 'sugars_100g',  'proteins_100g',\n",
        "       'salt_100g', 'sodium_100g']\n",
        "\n",
        "data.dropna(subset=['product_name'] ,axis=0, inplace=True)\n"
      ],
      "execution_count": null,
      "outputs": [
        {
          "output_type": "stream",
          "text": [
            "/usr/local/lib/python3.6/dist-packages/ipykernel_launcher.py:6: SettingWithCopyWarning: \n",
            "A value is trying to be set on a copy of a slice from a DataFrame\n",
            "\n",
            "See the caveats in the documentation: https://pandas.pydata.org/pandas-docs/stable/user_guide/indexing.html#returning-a-view-versus-a-copy\n",
            "  \n"
          ],
          "name": "stderr"
        }
      ]
    },
    {
      "cell_type": "code",
      "metadata": {
        "id": "CJQkTcAjFLnz",
        "colab_type": "code",
        "colab": {
          "base_uri": "https://localhost:8080/",
          "height": 102
        },
        "outputId": "afbea530-b8dd-4051-989b-dda48bcacd1a"
      },
      "source": [
        "data.fiber_100g.fillna(0, inplace=True)"
      ],
      "execution_count": null,
      "outputs": [
        {
          "output_type": "stream",
          "text": [
            "/usr/local/lib/python3.6/dist-packages/pandas/core/generic.py:6245: SettingWithCopyWarning: \n",
            "A value is trying to be set on a copy of a slice from a DataFrame\n",
            "\n",
            "See the caveats in the documentation: https://pandas.pydata.org/pandas-docs/stable/user_guide/indexing.html#returning-a-view-versus-a-copy\n",
            "  self._update_inplace(new_data)\n"
          ],
          "name": "stderr"
        }
      ]
    },
    {
      "cell_type": "code",
      "metadata": {
        "id": "zX1IjBHGybfC",
        "colab_type": "code",
        "colab": {
          "base_uri": "https://localhost:8080/",
          "height": 306
        },
        "outputId": "55f4486b-7e79-4ca7-f2e3-6656113100a8"
      },
      "source": [
        "data.isnull().sum()/len(data)*100"
      ],
      "execution_count": null,
      "outputs": [
        {
          "output_type": "execute_result",
          "data": {
            "text/plain": [
              "code                   0.000000\n",
              "url                    0.000000\n",
              "product_name           0.000000\n",
              "countries_fr           0.000000\n",
              "nutriscore_score      54.549459\n",
              "nutriscore_grade      54.549459\n",
              "pnns_groups_2          0.000000\n",
              "energy_100g            0.000000\n",
              "fat_100g               0.000000\n",
              "saturated-fat_100g     0.000000\n",
              "carbohydrates_100g     0.000000\n",
              "sugars_100g            0.000000\n",
              "fiber_100g             0.000000\n",
              "proteins_100g          0.000000\n",
              "salt_100g              0.000000\n",
              "sodium_100g            0.000000\n",
              "dtype: float64"
            ]
          },
          "metadata": {
            "tags": []
          },
          "execution_count": 24
        }
      ]
    },
    {
      "cell_type": "code",
      "metadata": {
        "id": "j5PGC2jBFUDi",
        "colab_type": "code",
        "colab": {
          "base_uri": "https://localhost:8080/",
          "height": 34
        },
        "outputId": "e67b36a2-643a-49a3-c4f4-beb98febde05"
      },
      "source": [
        "len(data)"
      ],
      "execution_count": null,
      "outputs": [
        {
          "output_type": "execute_result",
          "data": {
            "text/plain": [
              "528953"
            ]
          },
          "metadata": {
            "tags": []
          },
          "execution_count": 21
        }
      ]
    },
    {
      "cell_type": "code",
      "metadata": {
        "id": "nItXCVTXLmQV",
        "colab_type": "code",
        "colab": {}
      },
      "source": [
        "data.to_csv('/content/drive/My Drive/Colab Notebooks/fr.openfoodfacts.org.products.csv/clean.openfoodfacts.csv',sep='\\t', encoding='utf-8')"
      ],
      "execution_count": null,
      "outputs": []
    },
    {
      "cell_type": "code",
      "metadata": {
        "id": "tLi0nBb-mCrl",
        "colab_type": "code",
        "colab": {}
      },
      "source": [
        ""
      ],
      "execution_count": null,
      "outputs": []
    }
  ]
}